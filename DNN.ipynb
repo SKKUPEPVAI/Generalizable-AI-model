{
 "cells": [
  {
   "cell_type": "markdown",
   "metadata": {},
   "source": [
    "# Data Preprocessing"
   ]
  },
  {
   "cell_type": "code",
   "execution_count": 1,
   "metadata": {},
   "outputs": [
    {
     "name": "stdout",
     "output_type": "stream",
     "text": [
      "cpu\n"
     ]
    }
   ],
   "source": [
    "# reproduceability\n",
    "import os\n",
    "import numpy as np\n",
    "import pandas as pd\n",
    "import torch\n",
    "import random\n",
    "\n",
    "\n",
    "def set_seed(seed: int = 42):\n",
    "    random.seed(seed)\n",
    "    np.random.seed(seed)\n",
    "    torch.manual_seed(seed)\n",
    "    torch.cuda.manual_seed(seed)  # type: ignore\n",
    "    torch.cuda.manual_seed_all(seed) # if use multi-GPU\n",
    "\n",
    "    torch.backends.cudnn.deterministic = True  # type: ignore\n",
    "    torch.backends.cudnn.benchmark = True  # type: ignore\n",
    "\n",
    "def get_device() -> torch.device:\n",
    "    return torch.device(\"cuda\" if torch.cuda.is_available() else \"cpu\")\n",
    "\n",
    "device = get_device()\n",
    "set_seed(42)\n",
    "print(device)"
   ]
  },
  {
   "cell_type": "code",
   "execution_count": 101,
   "metadata": {},
   "outputs": [
    {
     "name": "stdout",
     "output_type": "stream",
     "text": [
      "train samples: 1337, label samples: 1337\n",
      "number of features: 47\n",
      "1    1110\n",
      "0     227\n",
      "Name: Label, dtype: int64\n",
      "0.2045045045045045 0.7954954954954955\n"
     ]
    },
    {
     "data": {
      "text/html": [
       "<div>\n",
       "<style scoped>\n",
       "    .dataframe tbody tr th:only-of-type {\n",
       "        vertical-align: middle;\n",
       "    }\n",
       "\n",
       "    .dataframe tbody tr th {\n",
       "        vertical-align: top;\n",
       "    }\n",
       "\n",
       "    .dataframe thead th {\n",
       "        text-align: right;\n",
       "    }\n",
       "</style>\n",
       "<table border=\"1\" class=\"dataframe\">\n",
       "  <thead>\n",
       "    <tr style=\"text-align: right;\">\n",
       "      <th></th>\n",
       "      <th>SOC</th>\n",
       "      <th>a</th>\n",
       "      <th>agg1</th>\n",
       "      <th>agg2</th>\n",
       "      <th>agg3</th>\n",
       "      <th>agg4</th>\n",
       "      <th>agg5</th>\n",
       "      <th>agg6</th>\n",
       "      <th>agg7</th>\n",
       "      <th>agg8</th>\n",
       "      <th>...</th>\n",
       "      <th>report_type2</th>\n",
       "      <th>report_type3</th>\n",
       "      <th>report_type4</th>\n",
       "      <th>report_type5</th>\n",
       "      <th>notifier1</th>\n",
       "      <th>notifier2</th>\n",
       "      <th>notifier3</th>\n",
       "      <th>notifier4</th>\n",
       "      <th>notifier5</th>\n",
       "      <th>notifier6</th>\n",
       "    </tr>\n",
       "  </thead>\n",
       "  <tbody>\n",
       "    <tr>\n",
       "      <th>0</th>\n",
       "      <td>15</td>\n",
       "      <td>4539</td>\n",
       "      <td>1</td>\n",
       "      <td>0</td>\n",
       "      <td>2</td>\n",
       "      <td>6</td>\n",
       "      <td>221</td>\n",
       "      <td>1053</td>\n",
       "      <td>1029</td>\n",
       "      <td>615</td>\n",
       "      <td>...</td>\n",
       "      <td>1763</td>\n",
       "      <td>9</td>\n",
       "      <td>40</td>\n",
       "      <td>0</td>\n",
       "      <td>2618</td>\n",
       "      <td>122</td>\n",
       "      <td>543</td>\n",
       "      <td>2</td>\n",
       "      <td>1049</td>\n",
       "      <td>205</td>\n",
       "    </tr>\n",
       "    <tr>\n",
       "      <th>1</th>\n",
       "      <td>8</td>\n",
       "      <td>2663</td>\n",
       "      <td>1</td>\n",
       "      <td>1</td>\n",
       "      <td>3</td>\n",
       "      <td>2</td>\n",
       "      <td>117</td>\n",
       "      <td>562</td>\n",
       "      <td>503</td>\n",
       "      <td>364</td>\n",
       "      <td>...</td>\n",
       "      <td>1150</td>\n",
       "      <td>11</td>\n",
       "      <td>1</td>\n",
       "      <td>0</td>\n",
       "      <td>944</td>\n",
       "      <td>162</td>\n",
       "      <td>631</td>\n",
       "      <td>2</td>\n",
       "      <td>836</td>\n",
       "      <td>88</td>\n",
       "    </tr>\n",
       "    <tr>\n",
       "      <th>2</th>\n",
       "      <td>8</td>\n",
       "      <td>1738</td>\n",
       "      <td>1</td>\n",
       "      <td>0</td>\n",
       "      <td>0</td>\n",
       "      <td>0</td>\n",
       "      <td>70</td>\n",
       "      <td>430</td>\n",
       "      <td>400</td>\n",
       "      <td>292</td>\n",
       "      <td>...</td>\n",
       "      <td>682</td>\n",
       "      <td>6</td>\n",
       "      <td>1</td>\n",
       "      <td>0</td>\n",
       "      <td>590</td>\n",
       "      <td>50</td>\n",
       "      <td>404</td>\n",
       "      <td>1</td>\n",
       "      <td>654</td>\n",
       "      <td>39</td>\n",
       "    </tr>\n",
       "    <tr>\n",
       "      <th>3</th>\n",
       "      <td>7</td>\n",
       "      <td>1363</td>\n",
       "      <td>0</td>\n",
       "      <td>0</td>\n",
       "      <td>0</td>\n",
       "      <td>1</td>\n",
       "      <td>53</td>\n",
       "      <td>336</td>\n",
       "      <td>351</td>\n",
       "      <td>236</td>\n",
       "      <td>...</td>\n",
       "      <td>445</td>\n",
       "      <td>6</td>\n",
       "      <td>1</td>\n",
       "      <td>0</td>\n",
       "      <td>670</td>\n",
       "      <td>112</td>\n",
       "      <td>201</td>\n",
       "      <td>1</td>\n",
       "      <td>359</td>\n",
       "      <td>20</td>\n",
       "    </tr>\n",
       "    <tr>\n",
       "      <th>4</th>\n",
       "      <td>21</td>\n",
       "      <td>1266</td>\n",
       "      <td>0</td>\n",
       "      <td>0</td>\n",
       "      <td>0</td>\n",
       "      <td>0</td>\n",
       "      <td>19</td>\n",
       "      <td>231</td>\n",
       "      <td>546</td>\n",
       "      <td>363</td>\n",
       "      <td>...</td>\n",
       "      <td>437</td>\n",
       "      <td>0</td>\n",
       "      <td>1</td>\n",
       "      <td>0</td>\n",
       "      <td>1154</td>\n",
       "      <td>81</td>\n",
       "      <td>22</td>\n",
       "      <td>0</td>\n",
       "      <td>7</td>\n",
       "      <td>2</td>\n",
       "    </tr>\n",
       "  </tbody>\n",
       "</table>\n",
       "<p>5 rows × 47 columns</p>\n",
       "</div>"
      ],
      "text/plain": [
       "   SOC     a  agg1  agg2  agg3  agg4  agg5  agg6  agg7  agg8  ...  \\\n",
       "0   15  4539     1     0     2     6   221  1053  1029   615  ...   \n",
       "1    8  2663     1     1     3     2   117   562   503   364  ...   \n",
       "2    8  1738     1     0     0     0    70   430   400   292  ...   \n",
       "3    7  1363     0     0     0     1    53   336   351   236  ...   \n",
       "4   21  1266     0     0     0     0    19   231   546   363  ...   \n",
       "\n",
       "   report_type2  report_type3  report_type4  report_type5  notifier1  \\\n",
       "0          1763             9            40             0       2618   \n",
       "1          1150            11             1             0        944   \n",
       "2           682             6             1             0        590   \n",
       "3           445             6             1             0        670   \n",
       "4           437             0             1             0       1154   \n",
       "\n",
       "   notifier2  notifier3  notifier4  notifier5  notifier6  \n",
       "0        122        543          2       1049        205  \n",
       "1        162        631          2        836         88  \n",
       "2         50        404          1        654         39  \n",
       "3        112        201          1        359         20  \n",
       "4         81         22          0          7          2  \n",
       "\n",
       "[5 rows x 47 columns]"
      ]
     },
     "execution_count": 101,
     "metadata": {},
     "output_type": "execute_result"
    }
   ],
   "source": [
    "import pandas as pd\n",
    "import numpy as np \n",
    "from sklearn.preprocessing import Normalizer, MinMaxScaler, StandardScaler\n",
    "\n",
    "columns_ = [i+1 for i in range(48)]\n",
    "train = pd.read_excel('./dataset/Pembrolizumab_preprocessing_training_input1.xlsx', usecols= columns_)\n",
    "label = train['Label']\n",
    "train.drop('Label', axis=1, inplace=True)\n",
    "print(f'train samples: {len(train)}, label samples: {len(label)}')\n",
    "print(f'number of features: {len(train.columns)}')\n",
    "count = label.value_counts()\n",
    "print(count)\n",
    "print(227/1110, (1110-227)/1110)\n",
    "train.head()\n"
   ]
  },
  {
   "cell_type": "code",
   "execution_count": 3,
   "metadata": {},
   "outputs": [
    {
     "name": "stdout",
     "output_type": "stream",
     "text": [
      "mean value\n",
      "\n",
      "SOC                12.924458\n",
      "a                  49.062079\n",
      "agg1                0.008227\n",
      "agg2                0.011967\n",
      "agg3                0.020942\n",
      "agg4                0.031414\n",
      "agg5                2.153328\n",
      "agg6               12.565445\n",
      "agg7               12.336574\n",
      "agg8                8.444278\n",
      "agg9               13.489903\n",
      "sex1               26.612565\n",
      "sex2               19.788332\n",
      "sex3                2.602094\n",
      "serious            39.135378\n",
      "seriousness1        8.192221\n",
      "seriousness2        1.738968\n",
      "seriousness3       11.917726\n",
      "seriousness4        0.531788\n",
      "seriousness5        0.010471\n",
      "seriousness6       11.797307\n",
      "outcome1            8.766642\n",
      "outcome2            5.993269\n",
      "outcome3            7.784592\n",
      "outcome4            0.401645\n",
      "outcome5            4.724757\n",
      "outcome6           19.340314\n",
      "outcome7            0.004488\n",
      "outcome8            0.020942\n",
      "score_causality     0.120396\n",
      "region1             0.008975\n",
      "region2            23.079282\n",
      "region3             1.055348\n",
      "region4            14.857891\n",
      "region5             0.435303\n",
      "region6             9.625280\n",
      "report_type1       33.183994\n",
      "report_type2       15.491399\n",
      "report_type3        0.266268\n",
      "report_type4        0.119671\n",
      "report_type5        0.000748\n",
      "notifier1          24.510845\n",
      "notifier2           3.022438\n",
      "notifier3           8.768138\n",
      "notifier4           0.035153\n",
      "notifier5          11.536275\n",
      "notifier6           1.189230\n",
      "dtype: float64\n",
      "\n",
      "var value\n",
      "\n",
      "SOC                   32.472583\n",
      "a                  35845.311263\n",
      "agg1                   0.008166\n",
      "agg2                   0.011833\n",
      "agg3                   0.028004\n",
      "agg4                   0.058893\n",
      "agg5                  76.167341\n",
      "agg6                2050.491410\n",
      "agg7                2067.927052\n",
      "agg8                 893.920733\n",
      "agg9                4052.797989\n",
      "sex1               10941.721040\n",
      "sex2                5205.490343\n",
      "sex3                 238.166403\n",
      "serious            27448.654563\n",
      "seriousness1        5926.959281\n",
      "seriousness2          27.827769\n",
      "seriousness3        1204.800112\n",
      "seriousness4           3.701272\n",
      "seriousness5           0.011866\n",
      "seriousness6        3473.808436\n",
      "outcome1             907.502389\n",
      "outcome2             457.322559\n",
      "outcome3             723.191589\n",
      "outcome4               2.602782\n",
      "outcome5            5613.883765\n",
      "outcome6            6620.248621\n",
      "outcome7               0.005968\n",
      "outcome8               0.053453\n",
      "score_causality        0.027074\n",
      "region1                0.014889\n",
      "region2             7263.158380\n",
      "region3               83.911605\n",
      "region4             2866.809131\n",
      "region5                4.666657\n",
      "region6             3170.574301\n",
      "report_type1       13913.790971\n",
      "report_type2        5161.347418\n",
      "report_type3           1.174557\n",
      "report_type4           1.656327\n",
      "report_type5           0.000748\n",
      "notifier1           9948.413243\n",
      "notifier2            106.620754\n",
      "notifier3           1040.651289\n",
      "notifier4              0.047416\n",
      "notifier5           2509.895577\n",
      "notifier6             46.214914\n",
      "dtype: float64\n",
      "\n"
     ]
    }
   ],
   "source": [
    "print(f'mean value\\n')\n",
    "print(f'{train.mean()}\\n')\n",
    "print(f'var value\\n')\n",
    "print(f'{train.var()}\\n')"
   ]
  },
  {
   "cell_type": "code",
   "execution_count": 4,
   "metadata": {},
   "outputs": [
    {
     "name": "stdout",
     "output_type": "stream",
     "text": [
      "data type: <class 'numpy.ndarray'>\n",
      "data type: <class 'pandas.core.frame.DataFrame'>\n",
      "mean value\n",
      "\n",
      "0    -8.802067e-17\n",
      "1     0.000000e+00\n",
      "2    -2.657228e-17\n",
      "3     0.000000e+00\n",
      "4    -5.314456e-18\n",
      "5     4.251565e-17\n",
      "6     2.125782e-17\n",
      "7    -4.251565e-17\n",
      "8     0.000000e+00\n",
      "9     2.125782e-17\n",
      "10    2.125782e-17\n",
      "11    2.125782e-17\n",
      "12   -4.251565e-17\n",
      "13    1.062891e-17\n",
      "14    0.000000e+00\n",
      "15   -2.125782e-17\n",
      "16   -2.125782e-17\n",
      "17    0.000000e+00\n",
      "18    2.125782e-17\n",
      "19    0.000000e+00\n",
      "20   -2.125782e-17\n",
      "21    4.251565e-17\n",
      "22    0.000000e+00\n",
      "23    2.125782e-17\n",
      "24    0.000000e+00\n",
      "25   -5.314456e-18\n",
      "26   -2.125782e-17\n",
      "27    1.860060e-17\n",
      "28    2.657228e-17\n",
      "29   -2.657228e-17\n",
      "30    1.062891e-17\n",
      "31    0.000000e+00\n",
      "32    0.000000e+00\n",
      "33   -2.125782e-17\n",
      "34   -2.125782e-17\n",
      "35   -2.125782e-17\n",
      "36    2.125782e-17\n",
      "37    0.000000e+00\n",
      "38   -2.125782e-17\n",
      "39    0.000000e+00\n",
      "40    1.062891e-17\n",
      "41    2.125782e-17\n",
      "42    0.000000e+00\n",
      "43   -2.125782e-17\n",
      "44    0.000000e+00\n",
      "45    0.000000e+00\n",
      "46    3.188673e-17\n",
      "dtype: float64\n",
      "\n",
      "var value\n",
      "\n",
      "0     1.000749\n",
      "1     1.000749\n",
      "2     1.000749\n",
      "3     1.000749\n",
      "4     1.000749\n",
      "5     1.000749\n",
      "6     1.000749\n",
      "7     1.000749\n",
      "8     1.000749\n",
      "9     1.000749\n",
      "10    1.000749\n",
      "11    1.000749\n",
      "12    1.000749\n",
      "13    1.000749\n",
      "14    1.000749\n",
      "15    1.000749\n",
      "16    1.000749\n",
      "17    1.000749\n",
      "18    1.000749\n",
      "19    1.000749\n",
      "20    1.000749\n",
      "21    1.000749\n",
      "22    1.000749\n",
      "23    1.000749\n",
      "24    1.000749\n",
      "25    1.000749\n",
      "26    1.000749\n",
      "27    1.000749\n",
      "28    1.000749\n",
      "29    1.000749\n",
      "30    1.000749\n",
      "31    1.000749\n",
      "32    1.000749\n",
      "33    1.000749\n",
      "34    1.000749\n",
      "35    1.000749\n",
      "36    1.000749\n",
      "37    1.000749\n",
      "38    1.000749\n",
      "39    1.000749\n",
      "40    1.000749\n",
      "41    1.000749\n",
      "42    1.000749\n",
      "43    1.000749\n",
      "44    1.000749\n",
      "45    1.000749\n",
      "46    1.000749\n",
      "dtype: float64\n",
      "\n"
     ]
    }
   ],
   "source": [
    "# Standardization\n",
    "scaler = StandardScaler()\n",
    "scaler.fit(train)\n",
    "train_stand = scaler.transform(train) # returns numpy\n",
    "print(f'data type: {type(train_stand)}')\n",
    "train_stand_ = pd.DataFrame(train_stand) # convert to dataframe\n",
    "print(f'data type: {type(train_stand_)}')\n",
    "\n",
    "print(f'mean value\\n')\n",
    "print(f'{train_stand_.mean()}\\n')\n",
    "print(f'var value\\n')\n",
    "print(f'{train_stand_.var()}\\n')"
   ]
  },
  {
   "cell_type": "code",
   "execution_count": 5,
   "metadata": {},
   "outputs": [
    {
     "name": "stdout",
     "output_type": "stream",
     "text": [
      "Stratified Samples: 5\n",
      "Train samples: 1069 (80.0%)\n",
      "Valid samples: 268 (20.0%)\n",
      "Number of features: 47\n"
     ]
    },
    {
     "data": {
      "text/html": [
       "<div>\n",
       "<style scoped>\n",
       "    .dataframe tbody tr th:only-of-type {\n",
       "        vertical-align: middle;\n",
       "    }\n",
       "\n",
       "    .dataframe tbody tr th {\n",
       "        vertical-align: top;\n",
       "    }\n",
       "\n",
       "    .dataframe thead th {\n",
       "        text-align: right;\n",
       "    }\n",
       "</style>\n",
       "<table border=\"1\" class=\"dataframe\">\n",
       "  <thead>\n",
       "    <tr style=\"text-align: right;\">\n",
       "      <th></th>\n",
       "      <th>0</th>\n",
       "      <th>1</th>\n",
       "      <th>2</th>\n",
       "      <th>3</th>\n",
       "      <th>4</th>\n",
       "      <th>5</th>\n",
       "      <th>6</th>\n",
       "      <th>7</th>\n",
       "      <th>8</th>\n",
       "      <th>9</th>\n",
       "      <th>...</th>\n",
       "      <th>37</th>\n",
       "      <th>38</th>\n",
       "      <th>39</th>\n",
       "      <th>40</th>\n",
       "      <th>41</th>\n",
       "      <th>42</th>\n",
       "      <th>43</th>\n",
       "      <th>44</th>\n",
       "      <th>45</th>\n",
       "      <th>46</th>\n",
       "    </tr>\n",
       "  </thead>\n",
       "  <tbody>\n",
       "    <tr>\n",
       "      <th>0</th>\n",
       "      <td>0.364364</td>\n",
       "      <td>23.723930</td>\n",
       "      <td>10.979319</td>\n",
       "      <td>-0.110055</td>\n",
       "      <td>11.830669</td>\n",
       "      <td>24.603862</td>\n",
       "      <td>25.085226</td>\n",
       "      <td>22.985199</td>\n",
       "      <td>22.365163</td>\n",
       "      <td>20.294748</td>\n",
       "      <td>...</td>\n",
       "      <td>24.333257</td>\n",
       "      <td>8.061674</td>\n",
       "      <td>30.999036</td>\n",
       "      <td>-0.027359</td>\n",
       "      <td>26.011776</td>\n",
       "      <td>11.526744</td>\n",
       "      <td>16.566839</td>\n",
       "      <td>9.026692</td>\n",
       "      <td>20.716079</td>\n",
       "      <td>29.991524</td>\n",
       "    </tr>\n",
       "    <tr>\n",
       "      <th>1</th>\n",
       "      <td>-0.864495</td>\n",
       "      <td>13.811523</td>\n",
       "      <td>10.979319</td>\n",
       "      <td>9.086391</td>\n",
       "      <td>17.808600</td>\n",
       "      <td>8.114958</td>\n",
       "      <td>13.164261</td>\n",
       "      <td>12.138065</td>\n",
       "      <td>10.793904</td>\n",
       "      <td>11.896539</td>\n",
       "      <td>...</td>\n",
       "      <td>15.797513</td>\n",
       "      <td>9.907774</td>\n",
       "      <td>0.684281</td>\n",
       "      <td>-0.027359</td>\n",
       "      <td>9.222150</td>\n",
       "      <td>15.402011</td>\n",
       "      <td>19.295770</td>\n",
       "      <td>9.026692</td>\n",
       "      <td>16.462895</td>\n",
       "      <td>12.774532</td>\n",
       "    </tr>\n",
       "    <tr>\n",
       "      <th>2</th>\n",
       "      <td>-0.864495</td>\n",
       "      <td>8.924009</td>\n",
       "      <td>10.979319</td>\n",
       "      <td>-0.110055</td>\n",
       "      <td>-0.125192</td>\n",
       "      <td>-0.129494</td>\n",
       "      <td>7.776902</td>\n",
       "      <td>9.221932</td>\n",
       "      <td>8.528049</td>\n",
       "      <td>9.487491</td>\n",
       "      <td>...</td>\n",
       "      <td>9.280827</td>\n",
       "      <td>5.292523</td>\n",
       "      <td>0.684281</td>\n",
       "      <td>-0.027359</td>\n",
       "      <td>5.671656</td>\n",
       "      <td>4.551264</td>\n",
       "      <td>12.256369</td>\n",
       "      <td>4.432597</td>\n",
       "      <td>12.828718</td>\n",
       "      <td>5.563998</td>\n",
       "    </tr>\n",
       "    <tr>\n",
       "      <th>3</th>\n",
       "      <td>1.593223</td>\n",
       "      <td>6.017919</td>\n",
       "      <td>-0.091080</td>\n",
       "      <td>-0.110055</td>\n",
       "      <td>-0.125192</td>\n",
       "      <td>-0.129494</td>\n",
       "      <td>3.879663</td>\n",
       "      <td>5.819776</td>\n",
       "      <td>5.360252</td>\n",
       "      <td>5.873919</td>\n",
       "      <td>...</td>\n",
       "      <td>3.766708</td>\n",
       "      <td>7.138624</td>\n",
       "      <td>4.570788</td>\n",
       "      <td>-0.027359</td>\n",
       "      <td>5.109995</td>\n",
       "      <td>6.779543</td>\n",
       "      <td>6.333348</td>\n",
       "      <td>4.432597</td>\n",
       "      <td>6.578733</td>\n",
       "      <td>3.650998</td>\n",
       "    </tr>\n",
       "    <tr>\n",
       "      <th>4</th>\n",
       "      <td>1.417672</td>\n",
       "      <td>5.806567</td>\n",
       "      <td>-0.091080</td>\n",
       "      <td>-0.110055</td>\n",
       "      <td>-0.125192</td>\n",
       "      <td>-0.129494</td>\n",
       "      <td>3.306540</td>\n",
       "      <td>6.195338</td>\n",
       "      <td>5.690231</td>\n",
       "      <td>5.505870</td>\n",
       "      <td>...</td>\n",
       "      <td>3.766708</td>\n",
       "      <td>15.446076</td>\n",
       "      <td>13.121104</td>\n",
       "      <td>-0.027359</td>\n",
       "      <td>6.112960</td>\n",
       "      <td>7.457714</td>\n",
       "      <td>5.123936</td>\n",
       "      <td>-0.161498</td>\n",
       "      <td>4.102700</td>\n",
       "      <td>6.152613</td>\n",
       "    </tr>\n",
       "  </tbody>\n",
       "</table>\n",
       "<p>5 rows × 47 columns</p>\n",
       "</div>"
      ],
      "text/plain": [
       "         0          1          2         3          4          5          6   \\\n",
       "0  0.364364  23.723930  10.979319 -0.110055  11.830669  24.603862  25.085226   \n",
       "1 -0.864495  13.811523  10.979319  9.086391  17.808600   8.114958  13.164261   \n",
       "2 -0.864495   8.924009  10.979319 -0.110055  -0.125192  -0.129494   7.776902   \n",
       "3  1.593223   6.017919  -0.091080 -0.110055  -0.125192  -0.129494   3.879663   \n",
       "4  1.417672   5.806567  -0.091080 -0.110055  -0.125192  -0.129494   3.306540   \n",
       "\n",
       "          7          8          9   ...         37         38         39  \\\n",
       "0  22.985199  22.365163  20.294748  ...  24.333257   8.061674  30.999036   \n",
       "1  12.138065  10.793904  11.896539  ...  15.797513   9.907774   0.684281   \n",
       "2   9.221932   8.528049   9.487491  ...   9.280827   5.292523   0.684281   \n",
       "3   5.819776   5.360252   5.873919  ...   3.766708   7.138624   4.570788   \n",
       "4   6.195338   5.690231   5.505870  ...   3.766708  15.446076  13.121104   \n",
       "\n",
       "         40         41         42         43        44         45         46  \n",
       "0 -0.027359  26.011776  11.526744  16.566839  9.026692  20.716079  29.991524  \n",
       "1 -0.027359   9.222150  15.402011  19.295770  9.026692  16.462895  12.774532  \n",
       "2 -0.027359   5.671656   4.551264  12.256369  4.432597  12.828718   5.563998  \n",
       "3 -0.027359   5.109995   6.779543   6.333348  4.432597   6.578733   3.650998  \n",
       "4 -0.027359   6.112960   7.457714   5.123936 -0.161498   4.102700   6.152613  \n",
       "\n",
       "[5 rows x 47 columns]"
      ]
     },
     "execution_count": 5,
     "metadata": {},
     "output_type": "execute_result"
    }
   ],
   "source": [
    "# Stratified K Folds, train, val set ratio = 0.8: 0.2\n",
    "from sklearn.model_selection import StratifiedKFold\n",
    "\n",
    "skf = StratifiedKFold(n_splits=5, shuffle=True, random_state=1004)\n",
    "k_folded_data = list(skf.split(train_stand_, label)) # returns 5 tuples with index of (train_index, test_index)\n",
    "print(f'Stratified Samples: {len(k_folded_data)}')\n",
    "\n",
    "def data_split(train, train_index, test_index, selected_features = []):\n",
    "    selected_features = np.array(selected_features)\n",
    "    if len(selected_features):\n",
    "        train_x, val_x = train.iloc[train_index].iloc[:, selected_features], train.iloc[test_index].iloc[:, selected_features]\n",
    "        train_y, val_y = label.iloc[train_index], label.iloc[test_index]\n",
    "    else:\n",
    "        train_x, val_x = train.iloc[train_index], train.iloc[test_index]\n",
    "        train_y, val_y = label.iloc[train_index], label.iloc[test_index]\n",
    "    return train_x.reset_index(drop=True), train_y.reset_index(drop=True), val_x.reset_index(drop=True), val_y.reset_index(drop=True)\n",
    "\n",
    "# data_split test\n",
    "train_index = k_folded_data[0][0]\n",
    "test_index = k_folded_data[0][1]\n",
    "\n",
    "train_x, train_y, val_x, val_y  = data_split(train_stand_, train_index, test_index)\n",
    "\n",
    "print(f'Train samples: {len(train_x)} ({(round(len(train_x)/len(train_stand_),2)*100)}%)')\n",
    "print(f'Valid samples: {len(val_x)} ({(round(len(val_x)/len(train_stand_),2)*100)}%)')\n",
    "print(f'Number of features: {len(train_x.columns)}')\n",
    "train_x.head()"
   ]
  },
  {
   "cell_type": "markdown",
   "metadata": {},
   "source": [
    "# Feature Selection"
   ]
  },
  {
   "cell_type": "code",
   "execution_count": 6,
   "metadata": {},
   "outputs": [
    {
     "name": "stdout",
     "output_type": "stream",
     "text": [
      "Number of features: 5\n"
     ]
    },
    {
     "data": {
      "text/html": [
       "<div>\n",
       "<style scoped>\n",
       "    .dataframe tbody tr th:only-of-type {\n",
       "        vertical-align: middle;\n",
       "    }\n",
       "\n",
       "    .dataframe tbody tr th {\n",
       "        vertical-align: top;\n",
       "    }\n",
       "\n",
       "    .dataframe thead th {\n",
       "        text-align: right;\n",
       "    }\n",
       "</style>\n",
       "<table border=\"1\" class=\"dataframe\">\n",
       "  <thead>\n",
       "    <tr style=\"text-align: right;\">\n",
       "      <th></th>\n",
       "      <th>16</th>\n",
       "      <th>17</th>\n",
       "      <th>18</th>\n",
       "      <th>19</th>\n",
       "      <th>20</th>\n",
       "    </tr>\n",
       "  </thead>\n",
       "  <tbody>\n",
       "    <tr>\n",
       "      <th>0</th>\n",
       "      <td>15.410105</td>\n",
       "      <td>8.706232</td>\n",
       "      <td>7.523187</td>\n",
       "      <td>9.087259</td>\n",
       "      <td>32.099452</td>\n",
       "    </tr>\n",
       "    <tr>\n",
       "      <th>1</th>\n",
       "      <td>0.997687</td>\n",
       "      <td>-0.314657</td>\n",
       "      <td>-0.276519</td>\n",
       "      <td>-0.096161</td>\n",
       "      <td>-0.149317</td>\n",
       "    </tr>\n",
       "    <tr>\n",
       "      <th>2</th>\n",
       "      <td>5.548977</td>\n",
       "      <td>10.204910</td>\n",
       "      <td>15.322893</td>\n",
       "      <td>9.087259</td>\n",
       "      <td>6.775682</td>\n",
       "    </tr>\n",
       "    <tr>\n",
       "      <th>3</th>\n",
       "      <td>3.273332</td>\n",
       "      <td>5.132461</td>\n",
       "      <td>1.803403</td>\n",
       "      <td>9.087259</td>\n",
       "      <td>4.552214</td>\n",
       "    </tr>\n",
       "    <tr>\n",
       "      <th>4</th>\n",
       "      <td>11.048452</td>\n",
       "      <td>9.916702</td>\n",
       "      <td>2.323383</td>\n",
       "      <td>-0.096161</td>\n",
       "      <td>3.839347</td>\n",
       "    </tr>\n",
       "  </tbody>\n",
       "</table>\n",
       "</div>"
      ],
      "text/plain": [
       "          16         17         18        19         20\n",
       "0  15.410105   8.706232   7.523187  9.087259  32.099452\n",
       "1   0.997687  -0.314657  -0.276519 -0.096161  -0.149317\n",
       "2   5.548977  10.204910  15.322893  9.087259   6.775682\n",
       "3   3.273332   5.132461   1.803403  9.087259   4.552214\n",
       "4  11.048452   9.916702   2.323383 -0.096161   3.839347"
      ]
     },
     "execution_count": 6,
     "metadata": {},
     "output_type": "execute_result"
    }
   ],
   "source": [
    "# example\n",
    "selected_columns=  [16,17,18,19,20]\n",
    "train_x, train_y, val_x, val_y  = data_split(train_stand_, train_index, test_index, selected_columns)\n",
    "print(f'Number of features: {len(train_x.columns)}')\n",
    "train_x.head()"
   ]
  },
  {
   "cell_type": "markdown",
   "metadata": {},
   "source": [
    "# Modelling"
   ]
  },
  {
   "cell_type": "code",
   "execution_count": 7,
   "metadata": {},
   "outputs": [],
   "source": [
    "import torch\n",
    "import torch.nn as nn\n",
    "import torch.nn.functional as F\n",
    "from torch.utils.data import Dataset\n",
    "from torch.utils.data import DataLoader\n",
    "import torch.optim as optim\n",
    "\n",
    "# Customized the dataset\n",
    "class PharDataset(Dataset): \n",
    "  def __init__(self, x_data, y):\n",
    "    self.x_data = x_data\n",
    "    self.y = y\n",
    "\n",
    "  def __len__(self): \n",
    "    return len(self.x_data)\n",
    "\n",
    "  def __getitem__(self, idx): \n",
    "    x_data = self.x_data.loc[idx]\n",
    "    y = self.y.loc[idx]\n",
    "    # convert to numpy\n",
    "    x_data = np.array(x_data)\n",
    "    # convert to Tensor\n",
    "    x_data = torch.Tensor(x_data)\n",
    "    y = torch.Tensor([y])\n",
    "    \n",
    "    return x_data, y"
   ]
  },
  {
   "cell_type": "code",
   "execution_count": 8,
   "metadata": {},
   "outputs": [
    {
     "name": "stdout",
     "output_type": "stream",
     "text": [
      "train samples: 1069, val samples: 268\n",
      "train 0-th sample: tensor([15.4101,  8.7062,  7.5232,  9.0873, 32.0995])\n"
     ]
    }
   ],
   "source": [
    "train_dataset = PharDataset(train_x, train_y)\n",
    "val_dataset = PharDataset(val_x, val_y)\n",
    "\n",
    "train_loader = DataLoader(train_dataset, batch_size=16, shuffle=True)\n",
    "val_loader = DataLoader(val_dataset, batch_size=16, shuffle=False)\n",
    "\n",
    "print(f'train samples: {len(train_dataset)}, val samples: {len(val_dataset)}')\n",
    "print(f'train {0}-th sample: {(train_dataset[0][0])}')"
   ]
  },
  {
   "cell_type": "code",
   "execution_count": 9,
   "metadata": {},
   "outputs": [
    {
     "name": "stdout",
     "output_type": "stream",
     "text": [
      "[tensor([[ 4.2215, 10.1761,  5.4433, -0.0962,  3.9242],\n",
      "        [ 1.1873,  3.0574,  0.2435, -0.0962,  0.5636],\n",
      "        [ 0.6184,  2.9421,  2.8434, 18.2707,  2.7700],\n",
      "        [ 2.3251,  2.2216,  2.8434, -0.0962,  5.0954],\n",
      "        [ 1.3770,  2.7692, 14.2829, -0.0962,  2.5324],\n",
      "        [ 3.2733,  3.5185, -0.2765, -0.0962,  1.5819],\n",
      "        [ 1.7562,  2.8556,  4.4033, -0.0962,  1.3104],\n",
      "        [ 2.5148,  2.9997,  0.2435, -0.0962,  2.8549],\n",
      "        [ 0.6184,  1.2993,  4.4033, -0.0962,  0.6993],\n",
      "        [ 0.6184,  0.8670,  0.2435, -0.0962,  0.5296],\n",
      "        [ 1.7562,  2.5962,  0.2435, -0.0962,  0.2750],\n",
      "        [-0.1401,  0.7517,  2.8434, -0.0962,  0.7842],\n",
      "        [ 1.1873,  0.8382, -0.2765, -0.0962,  1.6159],\n",
      "        [-0.3298,  0.4347, -0.2765, -0.0962,  0.4787],\n",
      "        [ 0.2391,  0.8670,  1.8034, -0.0962,  0.8012],\n",
      "        [ 0.9977,  1.5299,  0.2435, -0.0962,  0.6993]]), tensor([[1.],\n",
      "        [1.],\n",
      "        [1.],\n",
      "        [1.],\n",
      "        [1.],\n",
      "        [1.],\n",
      "        [1.],\n",
      "        [1.],\n",
      "        [1.],\n",
      "        [1.],\n",
      "        [1.],\n",
      "        [1.],\n",
      "        [1.],\n",
      "        [1.],\n",
      "        [1.],\n",
      "        [1.]])]\n"
     ]
    }
   ],
   "source": [
    "print(next(iter(val_loader)))"
   ]
  },
  {
   "cell_type": "code",
   "execution_count": 10,
   "metadata": {},
   "outputs": [],
   "source": [
    "# xavier, dropout, normalization.\n",
    "from collections import OrderedDict\n",
    "\n",
    "class BinaryClassifier(nn.Module):\n",
    "    def __init__(self, num_features):\n",
    "        super().__init__()\n",
    "        self.num_features = num_features\n",
    "        linear_layers = []        \n",
    "        self.linear1 = nn.Linear(self.num_features,23)\n",
    "        self.bn1 = nn.BatchNorm1d(23)\n",
    "      #  self.dropout1 = nn.Dropuout(0.2)\n",
    "        self.linear2 = nn.Linear(23,23)\n",
    "        self.bn2 = nn.BatchNorm1d(23)\n",
    "        self.output = nn.Linear(23,2)\n",
    "        \n",
    "        # initialization\n",
    "        torch.nn.init.normal_(self.linear1.weight)\n",
    "        self.linear1.bias.data.zero_()\n",
    "        torch.nn.init.normal_(self.linear2.weight)\n",
    "        self.linear2.bias.data.zero_()\n",
    "        # activation function\n",
    "        self.relu = nn.ReLU()\n",
    "        \n",
    "        # model compilation\n",
    "        self.bn_model = torch.nn.Sequential(self.linear1, self.bn1, self.relu,\n",
    "                              self.linear2, self.bn2, self.relu,\n",
    "                              self.output)\n",
    "     \n",
    "    def forward(self, x):\n",
    "        x = self.bn_model(x)\n",
    "        return x"
   ]
  },
  {
   "cell_type": "code",
   "execution_count": 11,
   "metadata": {},
   "outputs": [
    {
     "data": {
      "text/plain": [
       "BinaryClassifier(\n",
       "  (linear1): Linear(in_features=5, out_features=23, bias=True)\n",
       "  (bn1): BatchNorm1d(23, eps=1e-05, momentum=0.1, affine=True, track_running_stats=True)\n",
       "  (linear2): Linear(in_features=23, out_features=23, bias=True)\n",
       "  (bn2): BatchNorm1d(23, eps=1e-05, momentum=0.1, affine=True, track_running_stats=True)\n",
       "  (output): Linear(in_features=23, out_features=2, bias=True)\n",
       "  (relu): ReLU()\n",
       "  (bn_model): Sequential(\n",
       "    (0): Linear(in_features=5, out_features=23, bias=True)\n",
       "    (1): BatchNorm1d(23, eps=1e-05, momentum=0.1, affine=True, track_running_stats=True)\n",
       "    (2): ReLU()\n",
       "    (3): Linear(in_features=23, out_features=23, bias=True)\n",
       "    (4): BatchNorm1d(23, eps=1e-05, momentum=0.1, affine=True, track_running_stats=True)\n",
       "    (5): ReLU()\n",
       "    (6): Linear(in_features=23, out_features=2, bias=True)\n",
       "  )\n",
       ")"
      ]
     },
     "execution_count": 11,
     "metadata": {},
     "output_type": "execute_result"
    }
   ],
   "source": [
    "model = BinaryClassifier(5).to(device)\n",
    "model"
   ]
  },
  {
   "cell_type": "code",
   "execution_count": 35,
   "metadata": {},
   "outputs": [],
   "source": [
    "from tqdm.notebook import tqdm\n",
    "\n",
    "def test(model, criterion, val_loader):\n",
    "    model.eval()\n",
    "    test_loss = 0\n",
    "    correct_prediction = 0\n",
    "    total_prediction = 0\n",
    "    # Disable gradient updates\n",
    "    with torch.no_grad():\n",
    "        for data in val_loader:\n",
    "          # Get the input features and target labels, and put them on the GPU\n",
    "            inputs, targets = data[0].to(device), data[1].to(torch.int64).to(device)\n",
    "            targets = torch.LongTensor(targets).squeeze()\n",
    "            \n",
    "            outputs = model(inputs)\n",
    "            loss = criterion(outputs, targets)\n",
    "            # Get the predicted class with the highest score\n",
    "            _, prediction = torch.max(outputs,1)\n",
    "            # Count of predictions that matched the target label\n",
    "            correct_prediction += (prediction == targets).sum().item()\n",
    "            total_prediction += prediction.shape[0]\n",
    "            \n",
    "            test_loss +=loss.item()/len(val_loader)\n",
    "    \n",
    "        acc = correct_prediction/total_prediction\n",
    "        \n",
    "    return test_loss, acc\n",
    "\n",
    "def train(epochs, train_loader, val_loader, model):\n",
    "    train_loss = []\n",
    "    val_loss = []\n",
    "    train_acc = []\n",
    "    val_acc = []\n",
    "    \n",
    "    model.train()\n",
    "    criterion=torch.nn.CrossEntropyLoss().to(device) \n",
    "    optimizer = torch.optim.Adam(model.parameters(),lr=0.001)\n",
    "    T_max = len(train_loader)*epochs # maximum number of iterations\n",
    "    scheduler = torch.optim.lr_scheduler.CosineAnnealingLR(optimizer, T_max=T_max, eta_min=0)\n",
    "\n",
    "    for epoch in range(epochs):\n",
    "        \n",
    "        avg_loss = 0.0\n",
    "        correct_prediction = 0\n",
    "        total_prediction = 0\n",
    "\n",
    "        \n",
    "        for batch_idx, data in enumerate(tqdm(train_loader)):\n",
    "            \n",
    "            inputs, targets = data[0].to(device), data[1].to(torch.int64).to(device)\n",
    "            targets = torch.LongTensor(targets).squeeze()\n",
    "\n",
    "            # Zero the parameter gradients\n",
    "            optimizer.zero_grad()\n",
    "            \n",
    "            # forward + backward + optimize\n",
    "            outputs = model(inputs)\n",
    "            loss = criterion(outputs, targets)\n",
    "            loss.backward()\n",
    "            optimizer.step()\n",
    "            scheduler.step()\n",
    "            \n",
    "            # Get the predicted class with the highest score\n",
    "            _, prediction = torch.max(outputs,1)\n",
    "            # Count of predictions that matched the target label\n",
    "            correct_prediction += (prediction == targets).sum().item()\n",
    "            total_prediction += prediction.shape[0]\n",
    "            \n",
    "            avg_loss +=loss.item()/len(train_loader)\n",
    "            \n",
    "        acc = correct_prediction/total_prediction\n",
    "        \n",
    "        test_result = test(model, criterion, val_loader)\n",
    "\n",
    "        if epoch%10==0:\n",
    "            print(f'Epoch: {epoch}')\n",
    "            print(f'Training Accuracy: {acc:.2f}, Loss: {avg_loss:.2f}')\n",
    "            print(f'Validation Accuracy: {test_result[1]:.2f}, Loss: {test_result[0]:.2f}')\n",
    "        train_loss.append(avg_loss)\n",
    "        val_loss.append(test_result[0])\n",
    "        train_acc.append(acc)\n",
    "        val_acc.append(test_result[1])\n",
    "    print('Finished Training')\n",
    "    return train_loss, train_acc, val_loss, val_acc\n",
    "## test ##\n",
    "#test_run = train(2,train_loader,val_loader,model)\n"
   ]
  },
  {
   "cell_type": "code",
   "execution_count": 17,
   "metadata": {},
   "outputs": [],
   "source": [
    "import matplotlib.pyplot as plt\n",
    "\n",
    "\n",
    "def plot_loss(epochs, val_loss, train_loss, title):\n",
    "    epochs = len(train_loss)\n",
    "\n",
    "    plt.figure(figsize=(10,5))\n",
    "    plt.plot(range(epochs), val_loss, marker='.', c='red', label=\"Validation-set Loss\")\n",
    "    plt.plot(range(epochs), train_loss, marker='.', c='blue', label=\"Train-set Loss\")\n",
    "    plt.legend(loc='upper right')\n",
    "    plt.grid()\n",
    "    plt.title(title)\n",
    "    plt.xlabel('epoch')\n",
    "    plt.ylabel('loss')\n",
    "    plt.show()\n",
    "    \n",
    "def plot_acc(epochs, val_acc, train_acc, title):\n",
    "    epochs = len(val_acc)\n",
    "    \n",
    "    plt.figure(figsize=(10,5))\n",
    "    plt.plot(range(epochs), val_acc, marker='.', c='red', label=\"Validation-set acc\")\n",
    "    plt.plot(range(epochs), train_acc, marker='.', c='blue', label=\"Train-set acc\")\n",
    "    plt.legend(loc='upper right')\n",
    "    plt.grid()\n",
    "    plt.title(title)\n",
    "    plt.xlabel('epoch')\n",
    "    plt.ylabel('acc')\n",
    "    plt.show()\n",
    "\n",
    "    ## test ##\n",
    "\n",
    "#plot_loss(epochs, test_run[0], test_run[2], '1/1')\n",
    "#plot_acc(epochs, test_run[3], test_run[1], '1/2')"
   ]
  },
  {
   "cell_type": "code",
   "execution_count": 18,
   "metadata": {},
   "outputs": [],
   "source": [
    "# selected features\n",
    "s_c = [[16,17,18,19,20],[13,15,17,18,19]]\n",
    "\n",
    "\n",
    "def main(k_folded_data, s_c, epochs=50):\n",
    "    indx = 0\n",
    "    for train_index, test_index in k_folded_data:\n",
    "        indx_s = 0 \n",
    "        for selected_columns in s_c:\n",
    "            train_x, train_y, val_x, val_y  = data_split(train_stand_, train_index, test_index, selected_columns)\n",
    "            train_dataset = PharDataset(train_x, train_y)\n",
    "            val_dataset = PharDataset(val_x, val_y)\n",
    "            train_loader = DataLoader(train_dataset, batch_size=16, shuffle=True)\n",
    "            val_loader = DataLoader(val_dataset, batch_size=16, shuffle=False)\n",
    "\n",
    "            model = BinaryClassifier(5).to(device)\n",
    "            run = train(epochs,train_loader, val_loader, model)\n",
    "            ### add initializer later, cache\n",
    "            plot_loss(epochs, run[0], run[2], str(indx)+'/'+str(indx_s))\n",
    "            plot_acc(epochs, run[3], run[1], str(indx)+'/'+str(indx_s))\n",
    "            indx_s+=1\n",
    "        indx+=1"
   ]
  },
  {
   "cell_type": "code",
   "execution_count": 19,
   "metadata": {},
   "outputs": [
    {
     "data": {
      "application/vnd.jupyter.widget-view+json": {
       "model_id": "112e7abf5f534f5eb4057850197a08f6",
       "version_major": 2,
       "version_minor": 0
      },
      "text/plain": [
       "  0%|          | 0/67 [00:00<?, ?it/s]"
      ]
     },
     "metadata": {},
     "output_type": "display_data"
    },
    {
     "name": "stdout",
     "output_type": "stream",
     "text": [
      "Epoch: 0\n",
      "Training Accuracy: 0.49, Loss: 0.70\n",
      "Validation Accuracy: 0.83, Loss: 0.60\n"
     ]
    },
    {
     "data": {
      "application/vnd.jupyter.widget-view+json": {
       "model_id": "31aedc5ef2d845188b6007801ccc8dfb",
       "version_major": 2,
       "version_minor": 0
      },
      "text/plain": [
       "  0%|          | 0/67 [00:00<?, ?it/s]"
      ]
     },
     "metadata": {},
     "output_type": "display_data"
    },
    {
     "data": {
      "application/vnd.jupyter.widget-view+json": {
       "model_id": "d3fcbc3f20aa434482230b72747df521",
       "version_major": 2,
       "version_minor": 0
      },
      "text/plain": [
       "  0%|          | 0/67 [00:00<?, ?it/s]"
      ]
     },
     "metadata": {},
     "output_type": "display_data"
    },
    {
     "data": {
      "application/vnd.jupyter.widget-view+json": {
       "model_id": "0e14666d1b8f4c43b3f9fb2cd380985e",
       "version_major": 2,
       "version_minor": 0
      },
      "text/plain": [
       "  0%|          | 0/67 [00:00<?, ?it/s]"
      ]
     },
     "metadata": {},
     "output_type": "display_data"
    },
    {
     "data": {
      "application/vnd.jupyter.widget-view+json": {
       "model_id": "be1d315a820741deb283b168335452e7",
       "version_major": 2,
       "version_minor": 0
      },
      "text/plain": [
       "  0%|          | 0/67 [00:00<?, ?it/s]"
      ]
     },
     "metadata": {},
     "output_type": "display_data"
    },
    {
     "data": {
      "application/vnd.jupyter.widget-view+json": {
       "model_id": "1b6735aa2d234d7492fae66bac0436fa",
       "version_major": 2,
       "version_minor": 0
      },
      "text/plain": [
       "  0%|          | 0/67 [00:00<?, ?it/s]"
      ]
     },
     "metadata": {},
     "output_type": "display_data"
    },
    {
     "data": {
      "application/vnd.jupyter.widget-view+json": {
       "model_id": "7a8b2e8f65b74c5498208950fa3b93ff",
       "version_major": 2,
       "version_minor": 0
      },
      "text/plain": [
       "  0%|          | 0/67 [00:00<?, ?it/s]"
      ]
     },
     "metadata": {},
     "output_type": "display_data"
    },
    {
     "data": {
      "application/vnd.jupyter.widget-view+json": {
       "model_id": "2fb6292e4b514a3a95ba6a836740d280",
       "version_major": 2,
       "version_minor": 0
      },
      "text/plain": [
       "  0%|          | 0/67 [00:00<?, ?it/s]"
      ]
     },
     "metadata": {},
     "output_type": "display_data"
    },
    {
     "data": {
      "application/vnd.jupyter.widget-view+json": {
       "model_id": "334d6682a72240aeb7e43966811e8337",
       "version_major": 2,
       "version_minor": 0
      },
      "text/plain": [
       "  0%|          | 0/67 [00:00<?, ?it/s]"
      ]
     },
     "metadata": {},
     "output_type": "display_data"
    },
    {
     "data": {
      "application/vnd.jupyter.widget-view+json": {
       "model_id": "4a6c16e43f464e80890e05d43735f12a",
       "version_major": 2,
       "version_minor": 0
      },
      "text/plain": [
       "  0%|          | 0/67 [00:00<?, ?it/s]"
      ]
     },
     "metadata": {},
     "output_type": "display_data"
    },
    {
     "data": {
      "application/vnd.jupyter.widget-view+json": {
       "model_id": "2a974a7d5c0a42a0b5a1a9a256075bba",
       "version_major": 2,
       "version_minor": 0
      },
      "text/plain": [
       "  0%|          | 0/67 [00:00<?, ?it/s]"
      ]
     },
     "metadata": {},
     "output_type": "display_data"
    },
    {
     "name": "stdout",
     "output_type": "stream",
     "text": [
      "Epoch: 10\n",
      "Training Accuracy: 0.83, Loss: 0.40\n",
      "Validation Accuracy: 0.83, Loss: 0.44\n"
     ]
    },
    {
     "data": {
      "application/vnd.jupyter.widget-view+json": {
       "model_id": "07fae0878ee84ddf99548ac0d84b0f59",
       "version_major": 2,
       "version_minor": 0
      },
      "text/plain": [
       "  0%|          | 0/67 [00:00<?, ?it/s]"
      ]
     },
     "metadata": {},
     "output_type": "display_data"
    },
    {
     "data": {
      "application/vnd.jupyter.widget-view+json": {
       "model_id": "6884f2f02b1d44b7859649269ac46d6f",
       "version_major": 2,
       "version_minor": 0
      },
      "text/plain": [
       "  0%|          | 0/67 [00:00<?, ?it/s]"
      ]
     },
     "metadata": {},
     "output_type": "display_data"
    },
    {
     "data": {
      "application/vnd.jupyter.widget-view+json": {
       "model_id": "14340ddc2725477499a92ee3b9fce70e",
       "version_major": 2,
       "version_minor": 0
      },
      "text/plain": [
       "  0%|          | 0/67 [00:00<?, ?it/s]"
      ]
     },
     "metadata": {},
     "output_type": "display_data"
    },
    {
     "data": {
      "application/vnd.jupyter.widget-view+json": {
       "model_id": "d14d33c7b6fa4415a86522ecb8c0a263",
       "version_major": 2,
       "version_minor": 0
      },
      "text/plain": [
       "  0%|          | 0/67 [00:00<?, ?it/s]"
      ]
     },
     "metadata": {},
     "output_type": "display_data"
    },
    {
     "data": {
      "application/vnd.jupyter.widget-view+json": {
       "model_id": "1f95ea936e934d28a1f6caa99043c725",
       "version_major": 2,
       "version_minor": 0
      },
      "text/plain": [
       "  0%|          | 0/67 [00:00<?, ?it/s]"
      ]
     },
     "metadata": {},
     "output_type": "display_data"
    },
    {
     "data": {
      "application/vnd.jupyter.widget-view+json": {
       "model_id": "3a5c06777509473c897ab60201b569d3",
       "version_major": 2,
       "version_minor": 0
      },
      "text/plain": [
       "  0%|          | 0/67 [00:00<?, ?it/s]"
      ]
     },
     "metadata": {},
     "output_type": "display_data"
    },
    {
     "data": {
      "application/vnd.jupyter.widget-view+json": {
       "model_id": "923572dd96f04df2aef0f0b0f97bff10",
       "version_major": 2,
       "version_minor": 0
      },
      "text/plain": [
       "  0%|          | 0/67 [00:00<?, ?it/s]"
      ]
     },
     "metadata": {},
     "output_type": "display_data"
    },
    {
     "data": {
      "application/vnd.jupyter.widget-view+json": {
       "model_id": "c9223144930a44f095725c14568a808c",
       "version_major": 2,
       "version_minor": 0
      },
      "text/plain": [
       "  0%|          | 0/67 [00:00<?, ?it/s]"
      ]
     },
     "metadata": {},
     "output_type": "display_data"
    },
    {
     "data": {
      "application/vnd.jupyter.widget-view+json": {
       "model_id": "019dbd6d97c14a8282d84fe7e3d3d535",
       "version_major": 2,
       "version_minor": 0
      },
      "text/plain": [
       "  0%|          | 0/67 [00:00<?, ?it/s]"
      ]
     },
     "metadata": {},
     "output_type": "display_data"
    },
    {
     "name": "stdout",
     "output_type": "stream",
     "text": [
      "Finished Training\n"
     ]
    },
    {
     "data": {
      "image/png": "[encoded data removed]",
      "text/plain": [
       "<Figure size 720x360 with 1 Axes>"
      ]
     },
     "metadata": {
      "needs_background": "light"
     },
     "output_type": "display_data"
    },
    {
     "data": {
      "image/png": "[encoded data removed]",
      "text/plain": [
       "<Figure size 720x360 with 1 Axes>"
      ]
     },
     "metadata": {
      "needs_background": "light"
     },
     "output_type": "display_data"
    },
    {
     "data": {
      "application/vnd.jupyter.widget-view+json": {
       "model_id": "38ef6333f7d24ef694df2da1510c65fc",
       "version_major": 2,
       "version_minor": 0
      },
      "text/plain": [
       "  0%|          | 0/67 [00:00<?, ?it/s]"
      ]
     },
     "metadata": {},
     "output_type": "display_data"
    },
    {
     "name": "stdout",
     "output_type": "stream",
     "text": [
      "Epoch: 0\n",
      "Training Accuracy: 0.75, Loss: 0.59\n",
      "Validation Accuracy: 0.83, Loss: 0.50\n"
     ]
    },
    {
     "data": {
      "application/vnd.jupyter.widget-view+json": {
       "model_id": "d0aeb45956f546a39652762e80b0b46c",
       "version_major": 2,
       "version_minor": 0
      },
      "text/plain": [
       "  0%|          | 0/67 [00:00<?, ?it/s]"
      ]
     },
     "metadata": {},
     "output_type": "display_data"
    },
    {
     "data": {
      "application/vnd.jupyter.widget-view+json": {
       "model_id": "34c91b964866425db02480ac95a09a9d",
       "version_major": 2,
       "version_minor": 0
      },
      "text/plain": [
       "  0%|          | 0/67 [00:00<?, ?it/s]"
      ]
     },
     "metadata": {},
     "output_type": "display_data"
    },
    {
     "data": {
      "application/vnd.jupyter.widget-view+json": {
       "model_id": "6ef1aed21d4c464bbb77ce42e5b9c5ee",
       "version_major": 2,
       "version_minor": 0
      },
      "text/plain": [
       "  0%|          | 0/67 [00:00<?, ?it/s]"
      ]
     },
     "metadata": {},
     "output_type": "display_data"
    },
    {
     "data": {
      "application/vnd.jupyter.widget-view+json": {
       "model_id": "d708939adfe1475e994c888ade4727fc",
       "version_major": 2,
       "version_minor": 0
      },
      "text/plain": [
       "  0%|          | 0/67 [00:00<?, ?it/s]"
      ]
     },
     "metadata": {},
     "output_type": "display_data"
    },
    {
     "data": {
      "application/vnd.jupyter.widget-view+json": {
       "model_id": "366d5d79ffda4e94a61d30c69d678ceb",
       "version_major": 2,
       "version_minor": 0
      },
      "text/plain": [
       "  0%|          | 0/67 [00:00<?, ?it/s]"
      ]
     },
     "metadata": {},
     "output_type": "display_data"
    },
    {
     "data": {
      "application/vnd.jupyter.widget-view+json": {
       "model_id": "5e76318326d441a489ee1d271d70b65b",
       "version_major": 2,
       "version_minor": 0
      },
      "text/plain": [
       "  0%|          | 0/67 [00:00<?, ?it/s]"
      ]
     },
     "metadata": {},
     "output_type": "display_data"
    },
    {
     "data": {
      "application/vnd.jupyter.widget-view+json": {
       "model_id": "b06b9e28646d4453911e0049810547eb",
       "version_major": 2,
       "version_minor": 0
      },
      "text/plain": [
       "  0%|          | 0/67 [00:00<?, ?it/s]"
      ]
     },
     "metadata": {},
     "output_type": "display_data"
    },
    {
     "data": {
      "application/vnd.jupyter.widget-view+json": {
       "model_id": "2832ed65017d4926a1dd9d37babdfa97",
       "version_major": 2,
       "version_minor": 0
      },
      "text/plain": [
       "  0%|          | 0/67 [00:00<?, ?it/s]"
      ]
     },
     "metadata": {},
     "output_type": "display_data"
    },
    {
     "data": {
      "application/vnd.jupyter.widget-view+json": {
       "model_id": "cacf3f0a0d4a4656b997098c475f5fa1",
       "version_major": 2,
       "version_minor": 0
      },
      "text/plain": [
       "  0%|          | 0/67 [00:00<?, ?it/s]"
      ]
     },
     "metadata": {},
     "output_type": "display_data"
    },
    {
     "data": {
      "application/vnd.jupyter.widget-view+json": {
       "model_id": "a8bfa615275e4f18ad2d39ebb4daa4a1",
       "version_major": 2,
       "version_minor": 0
      },
      "text/plain": [
       "  0%|          | 0/67 [00:00<?, ?it/s]"
      ]
     },
     "metadata": {},
     "output_type": "display_data"
    },
    {
     "name": "stdout",
     "output_type": "stream",
     "text": [
      "Epoch: 10\n",
      "Training Accuracy: 0.83, Loss: 0.41\n",
      "Validation Accuracy: 0.83, Loss: 0.45\n"
     ]
    },
    {
     "data": {
      "application/vnd.jupyter.widget-view+json": {
       "model_id": "8c600b6260d84c56933230a8a307e48a",
       "version_major": 2,
       "version_minor": 0
      },
      "text/plain": [
       "  0%|          | 0/67 [00:00<?, ?it/s]"
      ]
     },
     "metadata": {},
     "output_type": "display_data"
    },
    {
     "data": {
      "application/vnd.jupyter.widget-view+json": {
       "model_id": "e9f7de5b1779453c8a72bc4a15b07f81",
       "version_major": 2,
       "version_minor": 0
      },
      "text/plain": [
       "  0%|          | 0/67 [00:00<?, ?it/s]"
      ]
     },
     "metadata": {},
     "output_type": "display_data"
    },
    {
     "data": {
      "application/vnd.jupyter.widget-view+json": {
       "model_id": "13f2212360a841a99a0609c4b19afc8b",
       "version_major": 2,
       "version_minor": 0
      },
      "text/plain": [
       "  0%|          | 0/67 [00:00<?, ?it/s]"
      ]
     },
     "metadata": {},
     "output_type": "display_data"
    },
    {
     "data": {
      "application/vnd.jupyter.widget-view+json": {
       "model_id": "257c9e21172d4371a75618e58cdd5385",
       "version_major": 2,
       "version_minor": 0
      },
      "text/plain": [
       "  0%|          | 0/67 [00:00<?, ?it/s]"
      ]
     },
     "metadata": {},
     "output_type": "display_data"
    },
    {
     "data": {
      "application/vnd.jupyter.widget-view+json": {
       "model_id": "acf1b580dc21410988960532eb3d5aca",
       "version_major": 2,
       "version_minor": 0
      },
      "text/plain": [
       "  0%|          | 0/67 [00:00<?, ?it/s]"
      ]
     },
     "metadata": {},
     "output_type": "display_data"
    },
    {
     "data": {
      "application/vnd.jupyter.widget-view+json": {
       "model_id": "51b8f9e53c3f45929c1fe2a4dcac1c5f",
       "version_major": 2,
       "version_minor": 0
      },
      "text/plain": [
       "  0%|          | 0/67 [00:00<?, ?it/s]"
      ]
     },
     "metadata": {},
     "output_type": "display_data"
    },
    {
     "data": {
      "application/vnd.jupyter.widget-view+json": {
       "model_id": "f3a19c610b69413284f2cd85d132df77",
       "version_major": 2,
       "version_minor": 0
      },
      "text/plain": [
       "  0%|          | 0/67 [00:00<?, ?it/s]"
      ]
     },
     "metadata": {},
     "output_type": "display_data"
    },
    {
     "data": {
      "application/vnd.jupyter.widget-view+json": {
       "model_id": "a3e2b49d79274bc084f7f4450ed0605d",
       "version_major": 2,
       "version_minor": 0
      },
      "text/plain": [
       "  0%|          | 0/67 [00:00<?, ?it/s]"
      ]
     },
     "metadata": {},
     "output_type": "display_data"
    },
    {
     "data": {
      "application/vnd.jupyter.widget-view+json": {
       "model_id": "453062e9ab6d44e5a4fd28bc30c81832",
       "version_major": 2,
       "version_minor": 0
      },
      "text/plain": [
       "  0%|          | 0/67 [00:00<?, ?it/s]"
      ]
     },
     "metadata": {},
     "output_type": "display_data"
    },
    {
     "name": "stdout",
     "output_type": "stream",
     "text": [
      "Finished Training\n"
     ]
    },
    {
     "data": {
      "image/png": "[encoded data removed]",
      "text/plain": [
       "<Figure size 720x360 with 1 Axes>"
      ]
     },
     "metadata": {
      "needs_background": "light"
     },
     "output_type": "display_data"
    },
    {
     "data": {
      "image/png": "[encoded data removed]",
      "text/plain": [
       "<Figure size 720x360 with 1 Axes>"
      ]
     },
     "metadata": {
      "needs_background": "light"
     },
     "output_type": "display_data"
    },
    {
     "data": {
      "application/vnd.jupyter.widget-view+json": {
       "model_id": "6186577728db48168666f73e42738d2b",
       "version_major": 2,
       "version_minor": 0
      },
      "text/plain": [
       "  0%|          | 0/67 [00:00<?, ?it/s]"
      ]
     },
     "metadata": {},
     "output_type": "display_data"
    },
    {
     "name": "stdout",
     "output_type": "stream",
     "text": [
      "Epoch: 0\n",
      "Training Accuracy: 0.78, Loss: 0.55\n",
      "Validation Accuracy: 0.83, Loss: 0.52\n"
     ]
    },
    {
     "data": {
      "application/vnd.jupyter.widget-view+json": {
       "model_id": "57d8d72d17bd4b30b490f3008f2a9255",
       "version_major": 2,
       "version_minor": 0
      },
      "text/plain": [
       "  0%|          | 0/67 [00:00<?, ?it/s]"
      ]
     },
     "metadata": {},
     "output_type": "display_data"
    },
    {
     "data": {
      "application/vnd.jupyter.widget-view+json": {
       "model_id": "6b046412868b4d7da2384aeec8f9ae74",
       "version_major": 2,
       "version_minor": 0
      },
      "text/plain": [
       "  0%|          | 0/67 [00:00<?, ?it/s]"
      ]
     },
     "metadata": {},
     "output_type": "display_data"
    },
    {
     "data": {
      "application/vnd.jupyter.widget-view+json": {
       "model_id": "40e336516d44472aa9f89a2c570bf275",
       "version_major": 2,
       "version_minor": 0
      },
      "text/plain": [
       "  0%|          | 0/67 [00:00<?, ?it/s]"
      ]
     },
     "metadata": {},
     "output_type": "display_data"
    },
    {
     "data": {
      "application/vnd.jupyter.widget-view+json": {
       "model_id": "2882ee7903bd40a3950fd8e34d8323bc",
       "version_major": 2,
       "version_minor": 0
      },
      "text/plain": [
       "  0%|          | 0/67 [00:00<?, ?it/s]"
      ]
     },
     "metadata": {},
     "output_type": "display_data"
    },
    {
     "data": {
      "application/vnd.jupyter.widget-view+json": {
       "model_id": "93d9ed6b5dab421d84814907faa6ce9c",
       "version_major": 2,
       "version_minor": 0
      },
      "text/plain": [
       "  0%|          | 0/67 [00:00<?, ?it/s]"
      ]
     },
     "metadata": {},
     "output_type": "display_data"
    },
    {
     "data": {
      "application/vnd.jupyter.widget-view+json": {
       "model_id": "9e030d0d75744d8f86c15480f7324a87",
       "version_major": 2,
       "version_minor": 0
      },
      "text/plain": [
       "  0%|          | 0/67 [00:00<?, ?it/s]"
      ]
     },
     "metadata": {},
     "output_type": "display_data"
    },
    {
     "data": {
      "application/vnd.jupyter.widget-view+json": {
       "model_id": "e1d3d681654e4fafa861893d7ecd2bee",
       "version_major": 2,
       "version_minor": 0
      },
      "text/plain": [
       "  0%|          | 0/67 [00:00<?, ?it/s]"
      ]
     },
     "metadata": {},
     "output_type": "display_data"
    },
    {
     "data": {
      "application/vnd.jupyter.widget-view+json": {
       "model_id": "4bb58c2c77cb45a5953b0d1158cbff7e",
       "version_major": 2,
       "version_minor": 0
      },
      "text/plain": [
       "  0%|          | 0/67 [00:00<?, ?it/s]"
      ]
     },
     "metadata": {},
     "output_type": "display_data"
    },
    {
     "data": {
      "application/vnd.jupyter.widget-view+json": {
       "model_id": "9fd05f98ffc843b48313643912fc4f2f",
       "version_major": 2,
       "version_minor": 0
      },
      "text/plain": [
       "  0%|          | 0/67 [00:00<?, ?it/s]"
      ]
     },
     "metadata": {},
     "output_type": "display_data"
    },
    {
     "data": {
      "application/vnd.jupyter.widget-view+json": {
       "model_id": "18bb3442ad4d4d91ba4590b3b4699113",
       "version_major": 2,
       "version_minor": 0
      },
      "text/plain": [
       "  0%|          | 0/67 [00:00<?, ?it/s]"
      ]
     },
     "metadata": {},
     "output_type": "display_data"
    },
    {
     "name": "stdout",
     "output_type": "stream",
     "text": [
      "Epoch: 10\n",
      "Training Accuracy: 0.83, Loss: 0.44\n",
      "Validation Accuracy: 0.83, Loss: 0.41\n"
     ]
    },
    {
     "data": {
      "application/vnd.jupyter.widget-view+json": {
       "model_id": "ac18fd51ca7e4f3c8aa6c891594ae682",
       "version_major": 2,
       "version_minor": 0
      },
      "text/plain": [
       "  0%|          | 0/67 [00:00<?, ?it/s]"
      ]
     },
     "metadata": {},
     "output_type": "display_data"
    },
    {
     "data": {
      "application/vnd.jupyter.widget-view+json": {
       "model_id": "d397bf8923a14c27aefd7217635af8e2",
       "version_major": 2,
       "version_minor": 0
      },
      "text/plain": [
       "  0%|          | 0/67 [00:00<?, ?it/s]"
      ]
     },
     "metadata": {},
     "output_type": "display_data"
    },
    {
     "data": {
      "application/vnd.jupyter.widget-view+json": {
       "model_id": "1c82ee1d01024315a46b978b618a53c6",
       "version_major": 2,
       "version_minor": 0
      },
      "text/plain": [
       "  0%|          | 0/67 [00:00<?, ?it/s]"
      ]
     },
     "metadata": {},
     "output_type": "display_data"
    },
    {
     "data": {
      "application/vnd.jupyter.widget-view+json": {
       "model_id": "a8154900dd6d4b94982ebd6a4481f29d",
       "version_major": 2,
       "version_minor": 0
      },
      "text/plain": [
       "  0%|          | 0/67 [00:00<?, ?it/s]"
      ]
     },
     "metadata": {},
     "output_type": "display_data"
    },
    {
     "data": {
      "application/vnd.jupyter.widget-view+json": {
       "model_id": "59393eea8518477ab0089093e27cfa62",
       "version_major": 2,
       "version_minor": 0
      },
      "text/plain": [
       "  0%|          | 0/67 [00:00<?, ?it/s]"
      ]
     },
     "metadata": {},
     "output_type": "display_data"
    },
    {
     "data": {
      "application/vnd.jupyter.widget-view+json": {
       "model_id": "dd7163d4b2704ca49ead4df01d64d348",
       "version_major": 2,
       "version_minor": 0
      },
      "text/plain": [
       "  0%|          | 0/67 [00:00<?, ?it/s]"
      ]
     },
     "metadata": {},
     "output_type": "display_data"
    },
    {
     "data": {
      "application/vnd.jupyter.widget-view+json": {
       "model_id": "fbe58e1d30cb4c3d89389fddd4fbbfa4",
       "version_major": 2,
       "version_minor": 0
      },
      "text/plain": [
       "  0%|          | 0/67 [00:00<?, ?it/s]"
      ]
     },
     "metadata": {},
     "output_type": "display_data"
    },
    {
     "data": {
      "application/vnd.jupyter.widget-view+json": {
       "model_id": "8a365884fbc94e4a9ba858e93239855c",
       "version_major": 2,
       "version_minor": 0
      },
      "text/plain": [
       "  0%|          | 0/67 [00:00<?, ?it/s]"
      ]
     },
     "metadata": {},
     "output_type": "display_data"
    },
    {
     "data": {
      "application/vnd.jupyter.widget-view+json": {
       "model_id": "7eedfdc1691a4de9b2d59581387cb71b",
       "version_major": 2,
       "version_minor": 0
      },
      "text/plain": [
       "  0%|          | 0/67 [00:00<?, ?it/s]"
      ]
     },
     "metadata": {},
     "output_type": "display_data"
    },
    {
     "name": "stdout",
     "output_type": "stream",
     "text": [
      "Finished Training\n"
     ]
    },
    {
     "data": {
      "image/png": "[encoded data removed]",
      "text/plain": [
       "<Figure size 720x360 with 1 Axes>"
      ]
     },
     "metadata": {
      "needs_background": "light"
     },
     "output_type": "display_data"
    },
    {
     "data": {
      "image/png": "[encoded data removed]",
      "text/plain": [
       "<Figure size 720x360 with 1 Axes>"
      ]
     },
     "metadata": {
      "needs_background": "light"
     },
     "output_type": "display_data"
    },
    {
     "data": {
      "application/vnd.jupyter.widget-view+json": {
       "model_id": "0bf15a94d5b043fbb22359666a8898bf",
       "version_major": 2,
       "version_minor": 0
      },
      "text/plain": [
       "  0%|          | 0/67 [00:00<?, ?it/s]"
      ]
     },
     "metadata": {},
     "output_type": "display_data"
    },
    {
     "name": "stdout",
     "output_type": "stream",
     "text": [
      "Epoch: 0\n",
      "Training Accuracy: 0.81, Loss: 0.53\n",
      "Validation Accuracy: 0.83, Loss: 0.45\n"
     ]
    },
    {
     "data": {
      "application/vnd.jupyter.widget-view+json": {
       "model_id": "05848fee14604acabb9463626f435609",
       "version_major": 2,
       "version_minor": 0
      },
      "text/plain": [
       "  0%|          | 0/67 [00:00<?, ?it/s]"
      ]
     },
     "metadata": {},
     "output_type": "display_data"
    },
    {
     "data": {
      "application/vnd.jupyter.widget-view+json": {
       "model_id": "8a595357756c45958c55343c387d91aa",
       "version_major": 2,
       "version_minor": 0
      },
      "text/plain": [
       "  0%|          | 0/67 [00:00<?, ?it/s]"
      ]
     },
     "metadata": {},
     "output_type": "display_data"
    },
    {
     "data": {
      "application/vnd.jupyter.widget-view+json": {
       "model_id": "d1c968550ea54cd68069280ae8a178c9",
       "version_major": 2,
       "version_minor": 0
      },
      "text/plain": [
       "  0%|          | 0/67 [00:00<?, ?it/s]"
      ]
     },
     "metadata": {},
     "output_type": "display_data"
    },
    {
     "data": {
      "application/vnd.jupyter.widget-view+json": {
       "model_id": "77125156f33c469cbacc02a66e1bebae",
       "version_major": 2,
       "version_minor": 0
      },
      "text/plain": [
       "  0%|          | 0/67 [00:00<?, ?it/s]"
      ]
     },
     "metadata": {},
     "output_type": "display_data"
    },
    {
     "data": {
      "application/vnd.jupyter.widget-view+json": {
       "model_id": "b0fff9a19a724451a0219fe67b79be87",
       "version_major": 2,
       "version_minor": 0
      },
      "text/plain": [
       "  0%|          | 0/67 [00:00<?, ?it/s]"
      ]
     },
     "metadata": {},
     "output_type": "display_data"
    },
    {
     "data": {
      "application/vnd.jupyter.widget-view+json": {
       "model_id": "fad8b1269a6e4630ab52f2e8b38c6a20",
       "version_major": 2,
       "version_minor": 0
      },
      "text/plain": [
       "  0%|          | 0/67 [00:00<?, ?it/s]"
      ]
     },
     "metadata": {},
     "output_type": "display_data"
    },
    {
     "data": {
      "application/vnd.jupyter.widget-view+json": {
       "model_id": "08d6fd881f3946d4927ca563db25282a",
       "version_major": 2,
       "version_minor": 0
      },
      "text/plain": [
       "  0%|          | 0/67 [00:00<?, ?it/s]"
      ]
     },
     "metadata": {},
     "output_type": "display_data"
    },
    {
     "data": {
      "application/vnd.jupyter.widget-view+json": {
       "model_id": "ac606939a5874b7c885ff435c161dfb3",
       "version_major": 2,
       "version_minor": 0
      },
      "text/plain": [
       "  0%|          | 0/67 [00:00<?, ?it/s]"
      ]
     },
     "metadata": {},
     "output_type": "display_data"
    },
    {
     "data": {
      "application/vnd.jupyter.widget-view+json": {
       "model_id": "eb120f34701c41deaf16912637547425",
       "version_major": 2,
       "version_minor": 0
      },
      "text/plain": [
       "  0%|          | 0/67 [00:00<?, ?it/s]"
      ]
     },
     "metadata": {},
     "output_type": "display_data"
    },
    {
     "data": {
      "application/vnd.jupyter.widget-view+json": {
       "model_id": "a37e23f758804d248b594e001cfc529b",
       "version_major": 2,
       "version_minor": 0
      },
      "text/plain": [
       "  0%|          | 0/67 [00:00<?, ?it/s]"
      ]
     },
     "metadata": {},
     "output_type": "display_data"
    },
    {
     "name": "stdout",
     "output_type": "stream",
     "text": [
      "Epoch: 10\n",
      "Training Accuracy: 0.83, Loss: 0.42\n",
      "Validation Accuracy: 0.83, Loss: 0.40\n"
     ]
    },
    {
     "data": {
      "application/vnd.jupyter.widget-view+json": {
       "model_id": "c5a47c2ce148414f83f955fadf8f0527",
       "version_major": 2,
       "version_minor": 0
      },
      "text/plain": [
       "  0%|          | 0/67 [00:00<?, ?it/s]"
      ]
     },
     "metadata": {},
     "output_type": "display_data"
    },
    {
     "data": {
      "application/vnd.jupyter.widget-view+json": {
       "model_id": "c85d62c4cc074421971a619af0227bc6",
       "version_major": 2,
       "version_minor": 0
      },
      "text/plain": [
       "  0%|          | 0/67 [00:00<?, ?it/s]"
      ]
     },
     "metadata": {},
     "output_type": "display_data"
    },
    {
     "data": {
      "application/vnd.jupyter.widget-view+json": {
       "model_id": "0447eef7f4ed4509ad9ac472001a734e",
       "version_major": 2,
       "version_minor": 0
      },
      "text/plain": [
       "  0%|          | 0/67 [00:00<?, ?it/s]"
      ]
     },
     "metadata": {},
     "output_type": "display_data"
    },
    {
     "data": {
      "application/vnd.jupyter.widget-view+json": {
       "model_id": "0a199c2d6d2542df869e76c1a62cd604",
       "version_major": 2,
       "version_minor": 0
      },
      "text/plain": [
       "  0%|          | 0/67 [00:00<?, ?it/s]"
      ]
     },
     "metadata": {},
     "output_type": "display_data"
    },
    {
     "data": {
      "application/vnd.jupyter.widget-view+json": {
       "model_id": "88dcd4de5b7b46749e600c81d7dab2b5",
       "version_major": 2,
       "version_minor": 0
      },
      "text/plain": [
       "  0%|          | 0/67 [00:00<?, ?it/s]"
      ]
     },
     "metadata": {},
     "output_type": "display_data"
    },
    {
     "data": {
      "application/vnd.jupyter.widget-view+json": {
       "model_id": "b7aed4c80a9e42948bb6fddb39cba8d3",
       "version_major": 2,
       "version_minor": 0
      },
      "text/plain": [
       "  0%|          | 0/67 [00:00<?, ?it/s]"
      ]
     },
     "metadata": {},
     "output_type": "display_data"
    },
    {
     "data": {
      "application/vnd.jupyter.widget-view+json": {
       "model_id": "868bf6a15b194e37a9eccc4c31a78c3c",
       "version_major": 2,
       "version_minor": 0
      },
      "text/plain": [
       "  0%|          | 0/67 [00:00<?, ?it/s]"
      ]
     },
     "metadata": {},
     "output_type": "display_data"
    },
    {
     "data": {
      "application/vnd.jupyter.widget-view+json": {
       "model_id": "bf0d7fd592b742788aef6ec4902784af",
       "version_major": 2,
       "version_minor": 0
      },
      "text/plain": [
       "  0%|          | 0/67 [00:00<?, ?it/s]"
      ]
     },
     "metadata": {},
     "output_type": "display_data"
    },
    {
     "data": {
      "application/vnd.jupyter.widget-view+json": {
       "model_id": "b604074c977b4f468c10158935a03cad",
       "version_major": 2,
       "version_minor": 0
      },
      "text/plain": [
       "  0%|          | 0/67 [00:00<?, ?it/s]"
      ]
     },
     "metadata": {},
     "output_type": "display_data"
    },
    {
     "name": "stdout",
     "output_type": "stream",
     "text": [
      "Finished Training\n"
     ]
    },
    {
     "data": {
      "image/png": "[encoded data removed]",
      "text/plain": [
       "<Figure size 720x360 with 1 Axes>"
      ]
     },
     "metadata": {
      "needs_background": "light"
     },
     "output_type": "display_data"
    },
    {
     "data": {
      "image/png": "[encoded data removed]",
      "text/plain": [
       "<Figure size 720x360 with 1 Axes>"
      ]
     },
     "metadata": {
      "needs_background": "light"
     },
     "output_type": "display_data"
    },
    {
     "data": {
      "application/vnd.jupyter.widget-view+json": {
       "model_id": "cffa81b1bddc47798550127417fa6095",
       "version_major": 2,
       "version_minor": 0
      },
      "text/plain": [
       "  0%|          | 0/67 [00:00<?, ?it/s]"
      ]
     },
     "metadata": {},
     "output_type": "display_data"
    },
    {
     "name": "stdout",
     "output_type": "stream",
     "text": [
      "Epoch: 0\n",
      "Training Accuracy: 0.81, Loss: 0.53\n",
      "Validation Accuracy: 0.83, Loss: 0.54\n"
     ]
    },
    {
     "data": {
      "application/vnd.jupyter.widget-view+json": {
       "model_id": "f31416e8a58142c3ae68d33304c761fc",
       "version_major": 2,
       "version_minor": 0
      },
      "text/plain": [
       "  0%|          | 0/67 [00:00<?, ?it/s]"
      ]
     },
     "metadata": {},
     "output_type": "display_data"
    },
    {
     "data": {
      "application/vnd.jupyter.widget-view+json": {
       "model_id": "443d2d1e91f842f9905329276215a155",
       "version_major": 2,
       "version_minor": 0
      },
      "text/plain": [
       "  0%|          | 0/67 [00:00<?, ?it/s]"
      ]
     },
     "metadata": {},
     "output_type": "display_data"
    },
    {
     "data": {
      "application/vnd.jupyter.widget-view+json": {
       "model_id": "dc4c9695913643a8b2dc5671bac5779b",
       "version_major": 2,
       "version_minor": 0
      },
      "text/plain": [
       "  0%|          | 0/67 [00:00<?, ?it/s]"
      ]
     },
     "metadata": {},
     "output_type": "display_data"
    },
    {
     "data": {
      "application/vnd.jupyter.widget-view+json": {
       "model_id": "296f941011d74b198b22e71af2dfd902",
       "version_major": 2,
       "version_minor": 0
      },
      "text/plain": [
       "  0%|          | 0/67 [00:00<?, ?it/s]"
      ]
     },
     "metadata": {},
     "output_type": "display_data"
    },
    {
     "data": {
      "application/vnd.jupyter.widget-view+json": {
       "model_id": "a174053dd9294283bdbefda0e5e34d12",
       "version_major": 2,
       "version_minor": 0
      },
      "text/plain": [
       "  0%|          | 0/67 [00:00<?, ?it/s]"
      ]
     },
     "metadata": {},
     "output_type": "display_data"
    },
    {
     "data": {
      "application/vnd.jupyter.widget-view+json": {
       "model_id": "a52f648614634882ae436c1dc0f7a2f7",
       "version_major": 2,
       "version_minor": 0
      },
      "text/plain": [
       "  0%|          | 0/67 [00:00<?, ?it/s]"
      ]
     },
     "metadata": {},
     "output_type": "display_data"
    },
    {
     "data": {
      "application/vnd.jupyter.widget-view+json": {
       "model_id": "9c3090061c8b4b0a884bb78c0dce763f",
       "version_major": 2,
       "version_minor": 0
      },
      "text/plain": [
       "  0%|          | 0/67 [00:00<?, ?it/s]"
      ]
     },
     "metadata": {},
     "output_type": "display_data"
    },
    {
     "data": {
      "application/vnd.jupyter.widget-view+json": {
       "model_id": "a918d7ca7d0945f990dca1dd757b5252",
       "version_major": 2,
       "version_minor": 0
      },
      "text/plain": [
       "  0%|          | 0/67 [00:00<?, ?it/s]"
      ]
     },
     "metadata": {},
     "output_type": "display_data"
    },
    {
     "data": {
      "application/vnd.jupyter.widget-view+json": {
       "model_id": "ca3e5821e0224c9b894544cef4829848",
       "version_major": 2,
       "version_minor": 0
      },
      "text/plain": [
       "  0%|          | 0/67 [00:00<?, ?it/s]"
      ]
     },
     "metadata": {},
     "output_type": "display_data"
    },
    {
     "data": {
      "application/vnd.jupyter.widget-view+json": {
       "model_id": "34989d5383fd48a9850006f1d62f8cc2",
       "version_major": 2,
       "version_minor": 0
      },
      "text/plain": [
       "  0%|          | 0/67 [00:00<?, ?it/s]"
      ]
     },
     "metadata": {},
     "output_type": "display_data"
    },
    {
     "name": "stdout",
     "output_type": "stream",
     "text": [
      "Epoch: 10\n",
      "Training Accuracy: 0.83, Loss: 0.41\n",
      "Validation Accuracy: 0.83, Loss: 0.56\n"
     ]
    },
    {
     "data": {
      "application/vnd.jupyter.widget-view+json": {
       "model_id": "765455dd82234eefb4c70f39f7b8d301",
       "version_major": 2,
       "version_minor": 0
      },
      "text/plain": [
       "  0%|          | 0/67 [00:00<?, ?it/s]"
      ]
     },
     "metadata": {},
     "output_type": "display_data"
    },
    {
     "data": {
      "application/vnd.jupyter.widget-view+json": {
       "model_id": "b33d81b0742b4383b5aa3c0a622f3f1c",
       "version_major": 2,
       "version_minor": 0
      },
      "text/plain": [
       "  0%|          | 0/67 [00:00<?, ?it/s]"
      ]
     },
     "metadata": {},
     "output_type": "display_data"
    },
    {
     "data": {
      "application/vnd.jupyter.widget-view+json": {
       "model_id": "5c9b7dbc07e645fe9bb243167710d674",
       "version_major": 2,
       "version_minor": 0
      },
      "text/plain": [
       "  0%|          | 0/67 [00:00<?, ?it/s]"
      ]
     },
     "metadata": {},
     "output_type": "display_data"
    },
    {
     "data": {
      "application/vnd.jupyter.widget-view+json": {
       "model_id": "e6d57466eafa4309bc038b206dc38c19",
       "version_major": 2,
       "version_minor": 0
      },
      "text/plain": [
       "  0%|          | 0/67 [00:00<?, ?it/s]"
      ]
     },
     "metadata": {},
     "output_type": "display_data"
    },
    {
     "data": {
      "application/vnd.jupyter.widget-view+json": {
       "model_id": "2c01f50333f34f3e904779428cf596f2",
       "version_major": 2,
       "version_minor": 0
      },
      "text/plain": [
       "  0%|          | 0/67 [00:00<?, ?it/s]"
      ]
     },
     "metadata": {},
     "output_type": "display_data"
    },
    {
     "data": {
      "application/vnd.jupyter.widget-view+json": {
       "model_id": "ff6ef27c359246b4a3d949903ad2597e",
       "version_major": 2,
       "version_minor": 0
      },
      "text/plain": [
       "  0%|          | 0/67 [00:00<?, ?it/s]"
      ]
     },
     "metadata": {},
     "output_type": "display_data"
    },
    {
     "data": {
      "application/vnd.jupyter.widget-view+json": {
       "model_id": "3a0cd50363b84fe58ff455cce7aba5d6",
       "version_major": 2,
       "version_minor": 0
      },
      "text/plain": [
       "  0%|          | 0/67 [00:00<?, ?it/s]"
      ]
     },
     "metadata": {},
     "output_type": "display_data"
    },
    {
     "data": {
      "application/vnd.jupyter.widget-view+json": {
       "model_id": "0fc6bbc5ce96471fb0829225e6c52885",
       "version_major": 2,
       "version_minor": 0
      },
      "text/plain": [
       "  0%|          | 0/67 [00:00<?, ?it/s]"
      ]
     },
     "metadata": {},
     "output_type": "display_data"
    },
    {
     "data": {
      "application/vnd.jupyter.widget-view+json": {
       "model_id": "c16fafb4f19a429cb99a82c65def2688",
       "version_major": 2,
       "version_minor": 0
      },
      "text/plain": [
       "  0%|          | 0/67 [00:00<?, ?it/s]"
      ]
     },
     "metadata": {},
     "output_type": "display_data"
    },
    {
     "name": "stdout",
     "output_type": "stream",
     "text": [
      "Finished Training\n"
     ]
    },
    {
     "data": {
      "image/png": "[encoded data removed]",
      "text/plain": [
       "<Figure size 720x360 with 1 Axes>"
      ]
     },
     "metadata": {
      "needs_background": "light"
     },
     "output_type": "display_data"
    },
    {
     "data": {
      "image/png": "[encoded data removed]",
      "text/plain": [
       "<Figure size 720x360 with 1 Axes>"
      ]
     },
     "metadata": {
      "needs_background": "light"
     },
     "output_type": "display_data"
    },
    {
     "data": {
      "application/vnd.jupyter.widget-view+json": {
       "model_id": "6bf445d3cc494162ae329047c8e321cf",
       "version_major": 2,
       "version_minor": 0
      },
      "text/plain": [
       "  0%|          | 0/67 [00:00<?, ?it/s]"
      ]
     },
     "metadata": {},
     "output_type": "display_data"
    },
    {
     "name": "stdout",
     "output_type": "stream",
     "text": [
      "Epoch: 0\n",
      "Training Accuracy: 0.80, Loss: 0.54\n",
      "Validation Accuracy: 0.83, Loss: 0.73\n"
     ]
    },
    {
     "data": {
      "application/vnd.jupyter.widget-view+json": {
       "model_id": "e23636cf5bd54026b06eaf48ed0c79a8",
       "version_major": 2,
       "version_minor": 0
      },
      "text/plain": [
       "  0%|          | 0/67 [00:00<?, ?it/s]"
      ]
     },
     "metadata": {},
     "output_type": "display_data"
    },
    {
     "data": {
      "application/vnd.jupyter.widget-view+json": {
       "model_id": "3d47523f3d474d6dac8e370fb4f7397a",
       "version_major": 2,
       "version_minor": 0
      },
      "text/plain": [
       "  0%|          | 0/67 [00:00<?, ?it/s]"
      ]
     },
     "metadata": {},
     "output_type": "display_data"
    },
    {
     "data": {
      "application/vnd.jupyter.widget-view+json": {
       "model_id": "114fd430e0714fa5a654ce6006a5553d",
       "version_major": 2,
       "version_minor": 0
      },
      "text/plain": [
       "  0%|          | 0/67 [00:00<?, ?it/s]"
      ]
     },
     "metadata": {},
     "output_type": "display_data"
    },
    {
     "data": {
      "application/vnd.jupyter.widget-view+json": {
       "model_id": "93ee50db75f34e47ac7fd4ec81914224",
       "version_major": 2,
       "version_minor": 0
      },
      "text/plain": [
       "  0%|          | 0/67 [00:00<?, ?it/s]"
      ]
     },
     "metadata": {},
     "output_type": "display_data"
    },
    {
     "data": {
      "application/vnd.jupyter.widget-view+json": {
       "model_id": "e64297702ab548cda2e072abc5d0fab7",
       "version_major": 2,
       "version_minor": 0
      },
      "text/plain": [
       "  0%|          | 0/67 [00:00<?, ?it/s]"
      ]
     },
     "metadata": {},
     "output_type": "display_data"
    },
    {
     "data": {
      "application/vnd.jupyter.widget-view+json": {
       "model_id": "96e40ef950064e38bb49b11ddae8db8f",
       "version_major": 2,
       "version_minor": 0
      },
      "text/plain": [
       "  0%|          | 0/67 [00:00<?, ?it/s]"
      ]
     },
     "metadata": {},
     "output_type": "display_data"
    },
    {
     "data": {
      "application/vnd.jupyter.widget-view+json": {
       "model_id": "327b094af4a34e67b0d31790b01d6b55",
       "version_major": 2,
       "version_minor": 0
      },
      "text/plain": [
       "  0%|          | 0/67 [00:00<?, ?it/s]"
      ]
     },
     "metadata": {},
     "output_type": "display_data"
    },
    {
     "data": {
      "application/vnd.jupyter.widget-view+json": {
       "model_id": "46e61f2463fc4a45afd5a1b7aefa4ef2",
       "version_major": 2,
       "version_minor": 0
      },
      "text/plain": [
       "  0%|          | 0/67 [00:00<?, ?it/s]"
      ]
     },
     "metadata": {},
     "output_type": "display_data"
    },
    {
     "data": {
      "application/vnd.jupyter.widget-view+json": {
       "model_id": "b454cdf36149477ca68adeacd6862228",
       "version_major": 2,
       "version_minor": 0
      },
      "text/plain": [
       "  0%|          | 0/67 [00:00<?, ?it/s]"
      ]
     },
     "metadata": {},
     "output_type": "display_data"
    },
    {
     "data": {
      "application/vnd.jupyter.widget-view+json": {
       "model_id": "65799f93f06843f5bb95860778b050ba",
       "version_major": 2,
       "version_minor": 0
      },
      "text/plain": [
       "  0%|          | 0/67 [00:00<?, ?it/s]"
      ]
     },
     "metadata": {},
     "output_type": "display_data"
    },
    {
     "name": "stdout",
     "output_type": "stream",
     "text": [
      "Epoch: 10\n",
      "Training Accuracy: 0.83, Loss: 0.41\n",
      "Validation Accuracy: 0.83, Loss: 0.68\n"
     ]
    },
    {
     "data": {
      "application/vnd.jupyter.widget-view+json": {
       "model_id": "4b70b49cd779408ba70276967a3246dc",
       "version_major": 2,
       "version_minor": 0
      },
      "text/plain": [
       "  0%|          | 0/67 [00:00<?, ?it/s]"
      ]
     },
     "metadata": {},
     "output_type": "display_data"
    },
    {
     "data": {
      "application/vnd.jupyter.widget-view+json": {
       "model_id": "9fbcbe96aa4244648fee4e2d319aed3c",
       "version_major": 2,
       "version_minor": 0
      },
      "text/plain": [
       "  0%|          | 0/67 [00:00<?, ?it/s]"
      ]
     },
     "metadata": {},
     "output_type": "display_data"
    },
    {
     "data": {
      "application/vnd.jupyter.widget-view+json": {
       "model_id": "083672aad0d24f24b2d43adb97ed1609",
       "version_major": 2,
       "version_minor": 0
      },
      "text/plain": [
       "  0%|          | 0/67 [00:00<?, ?it/s]"
      ]
     },
     "metadata": {},
     "output_type": "display_data"
    },
    {
     "data": {
      "application/vnd.jupyter.widget-view+json": {
       "model_id": "a31c5c6bcb064573a2591afe6202fe11",
       "version_major": 2,
       "version_minor": 0
      },
      "text/plain": [
       "  0%|          | 0/67 [00:00<?, ?it/s]"
      ]
     },
     "metadata": {},
     "output_type": "display_data"
    },
    {
     "data": {
      "application/vnd.jupyter.widget-view+json": {
       "model_id": "4c5da04a5f244ba8abcbb5dd03a287c4",
       "version_major": 2,
       "version_minor": 0
      },
      "text/plain": [
       "  0%|          | 0/67 [00:00<?, ?it/s]"
      ]
     },
     "metadata": {},
     "output_type": "display_data"
    },
    {
     "data": {
      "application/vnd.jupyter.widget-view+json": {
       "model_id": "b808bd4b09ca4e35b02b6fb7e4ad2c30",
       "version_major": 2,
       "version_minor": 0
      },
      "text/plain": [
       "  0%|          | 0/67 [00:00<?, ?it/s]"
      ]
     },
     "metadata": {},
     "output_type": "display_data"
    },
    {
     "data": {
      "application/vnd.jupyter.widget-view+json": {
       "model_id": "96c86d5c891c42f683451c916027adfa",
       "version_major": 2,
       "version_minor": 0
      },
      "text/plain": [
       "  0%|          | 0/67 [00:00<?, ?it/s]"
      ]
     },
     "metadata": {},
     "output_type": "display_data"
    },
    {
     "data": {
      "application/vnd.jupyter.widget-view+json": {
       "model_id": "c2d9dd64ca74491fa15b23625113f4c5",
       "version_major": 2,
       "version_minor": 0
      },
      "text/plain": [
       "  0%|          | 0/67 [00:00<?, ?it/s]"
      ]
     },
     "metadata": {},
     "output_type": "display_data"
    },
    {
     "data": {
      "application/vnd.jupyter.widget-view+json": {
       "model_id": "949d1a7cccdb4e3a9bb476107d2fd1ad",
       "version_major": 2,
       "version_minor": 0
      },
      "text/plain": [
       "  0%|          | 0/67 [00:00<?, ?it/s]"
      ]
     },
     "metadata": {},
     "output_type": "display_data"
    },
    {
     "name": "stdout",
     "output_type": "stream",
     "text": [
      "Finished Training\n"
     ]
    },
    {
     "data": {
      "image/png": "[encoded data removed]",
      "text/plain": [
       "<Figure size 720x360 with 1 Axes>"
      ]
     },
     "metadata": {
      "needs_background": "light"
     },
     "output_type": "display_data"
    },
    {
     "data": {
      "image/png": "[encoded data removed]",
      "text/plain": [
       "<Figure size 720x360 with 1 Axes>"
      ]
     },
     "metadata": {
      "needs_background": "light"
     },
     "output_type": "display_data"
    },
    {
     "data": {
      "application/vnd.jupyter.widget-view+json": {
       "model_id": "8c60cbbf6de24c89bd1d2364e23ccc05",
       "version_major": 2,
       "version_minor": 0
      },
      "text/plain": [
       "  0%|          | 0/67 [00:00<?, ?it/s]"
      ]
     },
     "metadata": {},
     "output_type": "display_data"
    },
    {
     "name": "stdout",
     "output_type": "stream",
     "text": [
      "Epoch: 0\n",
      "Training Accuracy: 0.77, Loss: 0.57\n",
      "Validation Accuracy: 0.83, Loss: 0.52\n"
     ]
    },
    {
     "data": {
      "application/vnd.jupyter.widget-view+json": {
       "model_id": "2cca6b9cfc66463193cb4f94ad9bcdc5",
       "version_major": 2,
       "version_minor": 0
      },
      "text/plain": [
       "  0%|          | 0/67 [00:00<?, ?it/s]"
      ]
     },
     "metadata": {},
     "output_type": "display_data"
    },
    {
     "data": {
      "application/vnd.jupyter.widget-view+json": {
       "model_id": "8f82efe652df4edf9dee7b5561f18017",
       "version_major": 2,
       "version_minor": 0
      },
      "text/plain": [
       "  0%|          | 0/67 [00:00<?, ?it/s]"
      ]
     },
     "metadata": {},
     "output_type": "display_data"
    },
    {
     "data": {
      "application/vnd.jupyter.widget-view+json": {
       "model_id": "6262e72b4a584a1dbd518bf6b0f1145c",
       "version_major": 2,
       "version_minor": 0
      },
      "text/plain": [
       "  0%|          | 0/67 [00:00<?, ?it/s]"
      ]
     },
     "metadata": {},
     "output_type": "display_data"
    },
    {
     "data": {
      "application/vnd.jupyter.widget-view+json": {
       "model_id": "f08725256d014c60b6ea0c137dbf8664",
       "version_major": 2,
       "version_minor": 0
      },
      "text/plain": [
       "  0%|          | 0/67 [00:00<?, ?it/s]"
      ]
     },
     "metadata": {},
     "output_type": "display_data"
    },
    {
     "data": {
      "application/vnd.jupyter.widget-view+json": {
       "model_id": "bc5090ad027740c5b5be6aee4736ffbe",
       "version_major": 2,
       "version_minor": 0
      },
      "text/plain": [
       "  0%|          | 0/67 [00:00<?, ?it/s]"
      ]
     },
     "metadata": {},
     "output_type": "display_data"
    },
    {
     "data": {
      "application/vnd.jupyter.widget-view+json": {
       "model_id": "8aae55442c514f6f8132aeeae0f6dc77",
       "version_major": 2,
       "version_minor": 0
      },
      "text/plain": [
       "  0%|          | 0/67 [00:00<?, ?it/s]"
      ]
     },
     "metadata": {},
     "output_type": "display_data"
    },
    {
     "data": {
      "application/vnd.jupyter.widget-view+json": {
       "model_id": "3395269ddc4841749a767e751e0e1ba2",
       "version_major": 2,
       "version_minor": 0
      },
      "text/plain": [
       "  0%|          | 0/67 [00:00<?, ?it/s]"
      ]
     },
     "metadata": {},
     "output_type": "display_data"
    },
    {
     "data": {
      "application/vnd.jupyter.widget-view+json": {
       "model_id": "142929ac9b394427b4a908a3ac9cfe89",
       "version_major": 2,
       "version_minor": 0
      },
      "text/plain": [
       "  0%|          | 0/67 [00:00<?, ?it/s]"
      ]
     },
     "metadata": {},
     "output_type": "display_data"
    },
    {
     "data": {
      "application/vnd.jupyter.widget-view+json": {
       "model_id": "de847ce8a92247a5ae4f88f6ee84051b",
       "version_major": 2,
       "version_minor": 0
      },
      "text/plain": [
       "  0%|          | 0/67 [00:00<?, ?it/s]"
      ]
     },
     "metadata": {},
     "output_type": "display_data"
    },
    {
     "data": {
      "application/vnd.jupyter.widget-view+json": {
       "model_id": "946e23a63438461e8e296a03c3c813e2",
       "version_major": 2,
       "version_minor": 0
      },
      "text/plain": [
       "  0%|          | 0/67 [00:00<?, ?it/s]"
      ]
     },
     "metadata": {},
     "output_type": "display_data"
    },
    {
     "name": "stdout",
     "output_type": "stream",
     "text": [
      "Epoch: 10\n",
      "Training Accuracy: 0.83, Loss: 0.42\n",
      "Validation Accuracy: 0.83, Loss: 0.41\n"
     ]
    },
    {
     "data": {
      "application/vnd.jupyter.widget-view+json": {
       "model_id": "41089d56ce7f4163b5edcd1d89e18b36",
       "version_major": 2,
       "version_minor": 0
      },
      "text/plain": [
       "  0%|          | 0/67 [00:00<?, ?it/s]"
      ]
     },
     "metadata": {},
     "output_type": "display_data"
    },
    {
     "data": {
      "application/vnd.jupyter.widget-view+json": {
       "model_id": "051f4d6b75704ecf9d7b6ca07447b8f6",
       "version_major": 2,
       "version_minor": 0
      },
      "text/plain": [
       "  0%|          | 0/67 [00:00<?, ?it/s]"
      ]
     },
     "metadata": {},
     "output_type": "display_data"
    },
    {
     "data": {
      "application/vnd.jupyter.widget-view+json": {
       "model_id": "2f02d0cdfe84412e9b5ab16be0347aa4",
       "version_major": 2,
       "version_minor": 0
      },
      "text/plain": [
       "  0%|          | 0/67 [00:00<?, ?it/s]"
      ]
     },
     "metadata": {},
     "output_type": "display_data"
    },
    {
     "data": {
      "application/vnd.jupyter.widget-view+json": {
       "model_id": "d38e1a8e5aef47f7bbe904c9e1d6d823",
       "version_major": 2,
       "version_minor": 0
      },
      "text/plain": [
       "  0%|          | 0/67 [00:00<?, ?it/s]"
      ]
     },
     "metadata": {},
     "output_type": "display_data"
    },
    {
     "data": {
      "application/vnd.jupyter.widget-view+json": {
       "model_id": "7a7602799b53491d9b9d8dc198e261f2",
       "version_major": 2,
       "version_minor": 0
      },
      "text/plain": [
       "  0%|          | 0/67 [00:00<?, ?it/s]"
      ]
     },
     "metadata": {},
     "output_type": "display_data"
    },
    {
     "data": {
      "application/vnd.jupyter.widget-view+json": {
       "model_id": "c5135c67db574c2e87a23a107110401a",
       "version_major": 2,
       "version_minor": 0
      },
      "text/plain": [
       "  0%|          | 0/67 [00:00<?, ?it/s]"
      ]
     },
     "metadata": {},
     "output_type": "display_data"
    },
    {
     "data": {
      "application/vnd.jupyter.widget-view+json": {
       "model_id": "004c71908f2e4f6ebec8390cf8e34e27",
       "version_major": 2,
       "version_minor": 0
      },
      "text/plain": [
       "  0%|          | 0/67 [00:00<?, ?it/s]"
      ]
     },
     "metadata": {},
     "output_type": "display_data"
    },
    {
     "data": {
      "application/vnd.jupyter.widget-view+json": {
       "model_id": "a11160ea8c6544209f701f3999f02a18",
       "version_major": 2,
       "version_minor": 0
      },
      "text/plain": [
       "  0%|          | 0/67 [00:00<?, ?it/s]"
      ]
     },
     "metadata": {},
     "output_type": "display_data"
    },
    {
     "data": {
      "application/vnd.jupyter.widget-view+json": {
       "model_id": "12f6f991b96d49199ddb242e9beac0f5",
       "version_major": 2,
       "version_minor": 0
      },
      "text/plain": [
       "  0%|          | 0/67 [00:00<?, ?it/s]"
      ]
     },
     "metadata": {},
     "output_type": "display_data"
    },
    {
     "name": "stdout",
     "output_type": "stream",
     "text": [
      "Finished Training\n"
     ]
    },
    {
     "data": {
      "image/png": "[encoded data removed]",
      "text/plain": [
       "<Figure size 720x360 with 1 Axes>"
      ]
     },
     "metadata": {
      "needs_background": "light"
     },
     "output_type": "display_data"
    },
    {
     "data": {
      "image/png": "[encoded data removed]",
      "text/plain": [
       "<Figure size 720x360 with 1 Axes>"
      ]
     },
     "metadata": {
      "needs_background": "light"
     },
     "output_type": "display_data"
    },
    {
     "data": {
      "application/vnd.jupyter.widget-view+json": {
       "model_id": "de1077a0f1a143f9b5a3319edbadb6a2",
       "version_major": 2,
       "version_minor": 0
      },
      "text/plain": [
       "  0%|          | 0/67 [00:00<?, ?it/s]"
      ]
     },
     "metadata": {},
     "output_type": "display_data"
    },
    {
     "name": "stdout",
     "output_type": "stream",
     "text": [
      "Epoch: 0\n",
      "Training Accuracy: 0.54, Loss: 0.67\n",
      "Validation Accuracy: 0.82, Loss: 0.58\n"
     ]
    },
    {
     "data": {
      "application/vnd.jupyter.widget-view+json": {
       "model_id": "f7f9078050a540a5a83ac033952f22b2",
       "version_major": 2,
       "version_minor": 0
      },
      "text/plain": [
       "  0%|          | 0/67 [00:00<?, ?it/s]"
      ]
     },
     "metadata": {},
     "output_type": "display_data"
    },
    {
     "data": {
      "application/vnd.jupyter.widget-view+json": {
       "model_id": "bc24f2c104b44b2fbe13aa9965fa7c1a",
       "version_major": 2,
       "version_minor": 0
      },
      "text/plain": [
       "  0%|          | 0/67 [00:00<?, ?it/s]"
      ]
     },
     "metadata": {},
     "output_type": "display_data"
    },
    {
     "data": {
      "application/vnd.jupyter.widget-view+json": {
       "model_id": "4295c3ef05fc412b9e5acccfdc90e1fb",
       "version_major": 2,
       "version_minor": 0
      },
      "text/plain": [
       "  0%|          | 0/67 [00:00<?, ?it/s]"
      ]
     },
     "metadata": {},
     "output_type": "display_data"
    },
    {
     "data": {
      "application/vnd.jupyter.widget-view+json": {
       "model_id": "9ba0f50c16624206a478b85f2d847c2d",
       "version_major": 2,
       "version_minor": 0
      },
      "text/plain": [
       "  0%|          | 0/67 [00:00<?, ?it/s]"
      ]
     },
     "metadata": {},
     "output_type": "display_data"
    },
    {
     "data": {
      "application/vnd.jupyter.widget-view+json": {
       "model_id": "3a989cfd42e84351aae86dfd0ee5c5af",
       "version_major": 2,
       "version_minor": 0
      },
      "text/plain": [
       "  0%|          | 0/67 [00:00<?, ?it/s]"
      ]
     },
     "metadata": {},
     "output_type": "display_data"
    },
    {
     "data": {
      "application/vnd.jupyter.widget-view+json": {
       "model_id": "3f6e4e1e60264a83b1d02e9914871a18",
       "version_major": 2,
       "version_minor": 0
      },
      "text/plain": [
       "  0%|          | 0/67 [00:00<?, ?it/s]"
      ]
     },
     "metadata": {},
     "output_type": "display_data"
    },
    {
     "data": {
      "application/vnd.jupyter.widget-view+json": {
       "model_id": "b831af81888e400cb401c4ec45c22285",
       "version_major": 2,
       "version_minor": 0
      },
      "text/plain": [
       "  0%|          | 0/67 [00:00<?, ?it/s]"
      ]
     },
     "metadata": {},
     "output_type": "display_data"
    },
    {
     "data": {
      "application/vnd.jupyter.widget-view+json": {
       "model_id": "e72b2dddcdc4480fa498b87be90b0304",
       "version_major": 2,
       "version_minor": 0
      },
      "text/plain": [
       "  0%|          | 0/67 [00:00<?, ?it/s]"
      ]
     },
     "metadata": {},
     "output_type": "display_data"
    },
    {
     "data": {
      "application/vnd.jupyter.widget-view+json": {
       "model_id": "ef2923b930cb45bd86858092c40048ca",
       "version_major": 2,
       "version_minor": 0
      },
      "text/plain": [
       "  0%|          | 0/67 [00:00<?, ?it/s]"
      ]
     },
     "metadata": {},
     "output_type": "display_data"
    },
    {
     "data": {
      "application/vnd.jupyter.widget-view+json": {
       "model_id": "d31e52af20c0433d82006ff04d53cb28",
       "version_major": 2,
       "version_minor": 0
      },
      "text/plain": [
       "  0%|          | 0/67 [00:00<?, ?it/s]"
      ]
     },
     "metadata": {},
     "output_type": "display_data"
    },
    {
     "name": "stdout",
     "output_type": "stream",
     "text": [
      "Epoch: 10\n",
      "Training Accuracy: 0.83, Loss: 0.43\n",
      "Validation Accuracy: 0.83, Loss: 0.42\n"
     ]
    },
    {
     "data": {
      "application/vnd.jupyter.widget-view+json": {
       "model_id": "85332fdb2ae745bc936dec18ad6caef8",
       "version_major": 2,
       "version_minor": 0
      },
      "text/plain": [
       "  0%|          | 0/67 [00:00<?, ?it/s]"
      ]
     },
     "metadata": {},
     "output_type": "display_data"
    },
    {
     "data": {
      "application/vnd.jupyter.widget-view+json": {
       "model_id": "e769a5c0788c4371a07e48440b03a8d4",
       "version_major": 2,
       "version_minor": 0
      },
      "text/plain": [
       "  0%|          | 0/67 [00:00<?, ?it/s]"
      ]
     },
     "metadata": {},
     "output_type": "display_data"
    },
    {
     "data": {
      "application/vnd.jupyter.widget-view+json": {
       "model_id": "66b6931d0af14795919d56295e7ce54f",
       "version_major": 2,
       "version_minor": 0
      },
      "text/plain": [
       "  0%|          | 0/67 [00:00<?, ?it/s]"
      ]
     },
     "metadata": {},
     "output_type": "display_data"
    },
    {
     "data": {
      "application/vnd.jupyter.widget-view+json": {
       "model_id": "3f607c3deadd4d06948915542f7dbe33",
       "version_major": 2,
       "version_minor": 0
      },
      "text/plain": [
       "  0%|          | 0/67 [00:00<?, ?it/s]"
      ]
     },
     "metadata": {},
     "output_type": "display_data"
    },
    {
     "data": {
      "application/vnd.jupyter.widget-view+json": {
       "model_id": "b787792466b247af9789c041c5e54362",
       "version_major": 2,
       "version_minor": 0
      },
      "text/plain": [
       "  0%|          | 0/67 [00:00<?, ?it/s]"
      ]
     },
     "metadata": {},
     "output_type": "display_data"
    },
    {
     "data": {
      "application/vnd.jupyter.widget-view+json": {
       "model_id": "b30b0e7717a94860a30aafcc13343e86",
       "version_major": 2,
       "version_minor": 0
      },
      "text/plain": [
       "  0%|          | 0/67 [00:00<?, ?it/s]"
      ]
     },
     "metadata": {},
     "output_type": "display_data"
    },
    {
     "data": {
      "application/vnd.jupyter.widget-view+json": {
       "model_id": "bda3d2286d1349c696ce198148df885a",
       "version_major": 2,
       "version_minor": 0
      },
      "text/plain": [
       "  0%|          | 0/67 [00:00<?, ?it/s]"
      ]
     },
     "metadata": {},
     "output_type": "display_data"
    },
    {
     "data": {
      "application/vnd.jupyter.widget-view+json": {
       "model_id": "4e9750d57ff8456590de540b9a0f8a77",
       "version_major": 2,
       "version_minor": 0
      },
      "text/plain": [
       "  0%|          | 0/67 [00:00<?, ?it/s]"
      ]
     },
     "metadata": {},
     "output_type": "display_data"
    },
    {
     "data": {
      "application/vnd.jupyter.widget-view+json": {
       "model_id": "17f241c7c0474466b5076a2460423692",
       "version_major": 2,
       "version_minor": 0
      },
      "text/plain": [
       "  0%|          | 0/67 [00:00<?, ?it/s]"
      ]
     },
     "metadata": {},
     "output_type": "display_data"
    },
    {
     "name": "stdout",
     "output_type": "stream",
     "text": [
      "Finished Training\n"
     ]
    },
    {
     "data": {
      "image/png": "[encoded data removed]",
      "text/plain": [
       "<Figure size 720x360 with 1 Axes>"
      ]
     },
     "metadata": {
      "needs_background": "light"
     },
     "output_type": "display_data"
    },
    {
     "data": {
      "image/png": "[encoded data removed]",
      "text/plain": [
       "<Figure size 720x360 with 1 Axes>"
      ]
     },
     "metadata": {
      "needs_background": "light"
     },
     "output_type": "display_data"
    },
    {
     "data": {
      "application/vnd.jupyter.widget-view+json": {
       "model_id": "cf33f1582bd34dddafad9e45484817aa",
       "version_major": 2,
       "version_minor": 0
      },
      "text/plain": [
       "  0%|          | 0/67 [00:00<?, ?it/s]"
      ]
     },
     "metadata": {},
     "output_type": "display_data"
    },
    {
     "name": "stdout",
     "output_type": "stream",
     "text": [
      "Epoch: 0\n",
      "Training Accuracy: 0.77, Loss: 0.57\n",
      "Validation Accuracy: 0.82, Loss: 0.54\n"
     ]
    },
    {
     "data": {
      "application/vnd.jupyter.widget-view+json": {
       "model_id": "8b8b98ab9b354cf3933b524fef546b18",
       "version_major": 2,
       "version_minor": 0
      },
      "text/plain": [
       "  0%|          | 0/67 [00:00<?, ?it/s]"
      ]
     },
     "metadata": {},
     "output_type": "display_data"
    },
    {
     "data": {
      "application/vnd.jupyter.widget-view+json": {
       "model_id": "3330f637a4bb4e1b882436b93c5be2a1",
       "version_major": 2,
       "version_minor": 0
      },
      "text/plain": [
       "  0%|          | 0/67 [00:00<?, ?it/s]"
      ]
     },
     "metadata": {},
     "output_type": "display_data"
    },
    {
     "data": {
      "application/vnd.jupyter.widget-view+json": {
       "model_id": "037022ee0719499386fd10dc65c94fb9",
       "version_major": 2,
       "version_minor": 0
      },
      "text/plain": [
       "  0%|          | 0/67 [00:00<?, ?it/s]"
      ]
     },
     "metadata": {},
     "output_type": "display_data"
    },
    {
     "data": {
      "application/vnd.jupyter.widget-view+json": {
       "model_id": "79c97b2d336f4d7cb259fd9d21cde433",
       "version_major": 2,
       "version_minor": 0
      },
      "text/plain": [
       "  0%|          | 0/67 [00:00<?, ?it/s]"
      ]
     },
     "metadata": {},
     "output_type": "display_data"
    },
    {
     "data": {
      "application/vnd.jupyter.widget-view+json": {
       "model_id": "673850afa53d4d35ba7ed9f62a680976",
       "version_major": 2,
       "version_minor": 0
      },
      "text/plain": [
       "  0%|          | 0/67 [00:00<?, ?it/s]"
      ]
     },
     "metadata": {},
     "output_type": "display_data"
    },
    {
     "data": {
      "application/vnd.jupyter.widget-view+json": {
       "model_id": "346d969ae26042ab9301f22201711275",
       "version_major": 2,
       "version_minor": 0
      },
      "text/plain": [
       "  0%|          | 0/67 [00:00<?, ?it/s]"
      ]
     },
     "metadata": {},
     "output_type": "display_data"
    },
    {
     "data": {
      "application/vnd.jupyter.widget-view+json": {
       "model_id": "4c262916dcce475a93c977056ca57537",
       "version_major": 2,
       "version_minor": 0
      },
      "text/plain": [
       "  0%|          | 0/67 [00:00<?, ?it/s]"
      ]
     },
     "metadata": {},
     "output_type": "display_data"
    },
    {
     "data": {
      "application/vnd.jupyter.widget-view+json": {
       "model_id": "0da8ee14fefa4a7689cf23b0c7bea656",
       "version_major": 2,
       "version_minor": 0
      },
      "text/plain": [
       "  0%|          | 0/67 [00:00<?, ?it/s]"
      ]
     },
     "metadata": {},
     "output_type": "display_data"
    },
    {
     "data": {
      "application/vnd.jupyter.widget-view+json": {
       "model_id": "292c22e41c1d47e2acb462c87eb5827d",
       "version_major": 2,
       "version_minor": 0
      },
      "text/plain": [
       "  0%|          | 0/67 [00:00<?, ?it/s]"
      ]
     },
     "metadata": {},
     "output_type": "display_data"
    },
    {
     "data": {
      "application/vnd.jupyter.widget-view+json": {
       "model_id": "2974b622e8ef4248995526ded2463c6a",
       "version_major": 2,
       "version_minor": 0
      },
      "text/plain": [
       "  0%|          | 0/67 [00:00<?, ?it/s]"
      ]
     },
     "metadata": {},
     "output_type": "display_data"
    },
    {
     "name": "stdout",
     "output_type": "stream",
     "text": [
      "Epoch: 10\n",
      "Training Accuracy: 0.83, Loss: 0.41\n",
      "Validation Accuracy: 0.83, Loss: 0.41\n"
     ]
    },
    {
     "data": {
      "application/vnd.jupyter.widget-view+json": {
       "model_id": "7aa81270c1af409da6c70d7455ea4280",
       "version_major": 2,
       "version_minor": 0
      },
      "text/plain": [
       "  0%|          | 0/67 [00:00<?, ?it/s]"
      ]
     },
     "metadata": {},
     "output_type": "display_data"
    },
    {
     "data": {
      "application/vnd.jupyter.widget-view+json": {
       "model_id": "2058d00655c4489fb93928fee4c24b93",
       "version_major": 2,
       "version_minor": 0
      },
      "text/plain": [
       "  0%|          | 0/67 [00:00<?, ?it/s]"
      ]
     },
     "metadata": {},
     "output_type": "display_data"
    },
    {
     "data": {
      "application/vnd.jupyter.widget-view+json": {
       "model_id": "884eb24c10ee402abff2ccad0e8f550b",
       "version_major": 2,
       "version_minor": 0
      },
      "text/plain": [
       "  0%|          | 0/67 [00:00<?, ?it/s]"
      ]
     },
     "metadata": {},
     "output_type": "display_data"
    },
    {
     "data": {
      "application/vnd.jupyter.widget-view+json": {
       "model_id": "1a5c08f04a9f4befaf3d2bb784c7666c",
       "version_major": 2,
       "version_minor": 0
      },
      "text/plain": [
       "  0%|          | 0/67 [00:00<?, ?it/s]"
      ]
     },
     "metadata": {},
     "output_type": "display_data"
    },
    {
     "data": {
      "application/vnd.jupyter.widget-view+json": {
       "model_id": "55fb141914a94f3ea753de1e2735de95",
       "version_major": 2,
       "version_minor": 0
      },
      "text/plain": [
       "  0%|          | 0/67 [00:00<?, ?it/s]"
      ]
     },
     "metadata": {},
     "output_type": "display_data"
    },
    {
     "data": {
      "application/vnd.jupyter.widget-view+json": {
       "model_id": "da108f7a8cd94083b24a9da34cbeec23",
       "version_major": 2,
       "version_minor": 0
      },
      "text/plain": [
       "  0%|          | 0/67 [00:00<?, ?it/s]"
      ]
     },
     "metadata": {},
     "output_type": "display_data"
    },
    {
     "data": {
      "application/vnd.jupyter.widget-view+json": {
       "model_id": "15b7b1044a7e4676b39ac7b7abebe26e",
       "version_major": 2,
       "version_minor": 0
      },
      "text/plain": [
       "  0%|          | 0/67 [00:00<?, ?it/s]"
      ]
     },
     "metadata": {},
     "output_type": "display_data"
    },
    {
     "data": {
      "application/vnd.jupyter.widget-view+json": {
       "model_id": "99e7ea6a5d8745ae8c6064345377bc11",
       "version_major": 2,
       "version_minor": 0
      },
      "text/plain": [
       "  0%|          | 0/67 [00:00<?, ?it/s]"
      ]
     },
     "metadata": {},
     "output_type": "display_data"
    },
    {
     "data": {
      "application/vnd.jupyter.widget-view+json": {
       "model_id": "85bc0740a996473cbf938ade9f88a453",
       "version_major": 2,
       "version_minor": 0
      },
      "text/plain": [
       "  0%|          | 0/67 [00:00<?, ?it/s]"
      ]
     },
     "metadata": {},
     "output_type": "display_data"
    },
    {
     "name": "stdout",
     "output_type": "stream",
     "text": [
      "Finished Training\n"
     ]
    },
    {
     "data": {
      "image/png": "[encoded data removed]",
      "text/plain": [
       "<Figure size 720x360 with 1 Axes>"
      ]
     },
     "metadata": {
      "needs_background": "light"
     },
     "output_type": "display_data"
    },
    {
     "data": {
      "image/png": "[encoded data removed]",
      "text/plain": [
       "<Figure size 720x360 with 1 Axes>"
      ]
     },
     "metadata": {
      "needs_background": "light"
     },
     "output_type": "display_data"
    },
    {
     "data": {
      "application/vnd.jupyter.widget-view+json": {
       "model_id": "d17ac390ec33497b9f202b0d5c08128c",
       "version_major": 2,
       "version_minor": 0
      },
      "text/plain": [
       "  0%|          | 0/67 [00:00<?, ?it/s]"
      ]
     },
     "metadata": {},
     "output_type": "display_data"
    },
    {
     "name": "stdout",
     "output_type": "stream",
     "text": [
      "Epoch: 0\n",
      "Training Accuracy: 0.70, Loss: 0.68\n",
      "Validation Accuracy: 0.83, Loss: 0.51\n"
     ]
    },
    {
     "data": {
      "application/vnd.jupyter.widget-view+json": {
       "model_id": "b6322a1c3eb4416dbe05a583b04ed44c",
       "version_major": 2,
       "version_minor": 0
      },
      "text/plain": [
       "  0%|          | 0/67 [00:00<?, ?it/s]"
      ]
     },
     "metadata": {},
     "output_type": "display_data"
    },
    {
     "data": {
      "application/vnd.jupyter.widget-view+json": {
       "model_id": "f4b975c0b2264b679b8c8382d5715085",
       "version_major": 2,
       "version_minor": 0
      },
      "text/plain": [
       "  0%|          | 0/67 [00:00<?, ?it/s]"
      ]
     },
     "metadata": {},
     "output_type": "display_data"
    },
    {
     "data": {
      "application/vnd.jupyter.widget-view+json": {
       "model_id": "e652903bdad74a95849e60f423d50e63",
       "version_major": 2,
       "version_minor": 0
      },
      "text/plain": [
       "  0%|          | 0/67 [00:00<?, ?it/s]"
      ]
     },
     "metadata": {},
     "output_type": "display_data"
    },
    {
     "data": {
      "application/vnd.jupyter.widget-view+json": {
       "model_id": "8f19a0c194c8424c96792a3486ebb604",
       "version_major": 2,
       "version_minor": 0
      },
      "text/plain": [
       "  0%|          | 0/67 [00:00<?, ?it/s]"
      ]
     },
     "metadata": {},
     "output_type": "display_data"
    },
    {
     "data": {
      "application/vnd.jupyter.widget-view+json": {
       "model_id": "57c8f4f852934773b293babe18e679b1",
       "version_major": 2,
       "version_minor": 0
      },
      "text/plain": [
       "  0%|          | 0/67 [00:00<?, ?it/s]"
      ]
     },
     "metadata": {},
     "output_type": "display_data"
    },
    {
     "data": {
      "application/vnd.jupyter.widget-view+json": {
       "model_id": "5d2d7b22350b415c853c4a893128eea6",
       "version_major": 2,
       "version_minor": 0
      },
      "text/plain": [
       "  0%|          | 0/67 [00:00<?, ?it/s]"
      ]
     },
     "metadata": {},
     "output_type": "display_data"
    },
    {
     "data": {
      "application/vnd.jupyter.widget-view+json": {
       "model_id": "39d71dd3fd2b44efb6c1228103b860f9",
       "version_major": 2,
       "version_minor": 0
      },
      "text/plain": [
       "  0%|          | 0/67 [00:00<?, ?it/s]"
      ]
     },
     "metadata": {},
     "output_type": "display_data"
    },
    {
     "data": {
      "application/vnd.jupyter.widget-view+json": {
       "model_id": "ca33119440e649fbb755c12238200b93",
       "version_major": 2,
       "version_minor": 0
      },
      "text/plain": [
       "  0%|          | 0/67 [00:00<?, ?it/s]"
      ]
     },
     "metadata": {},
     "output_type": "display_data"
    },
    {
     "data": {
      "application/vnd.jupyter.widget-view+json": {
       "model_id": "daec49f5615f4fe4a46046d8912bd2d3",
       "version_major": 2,
       "version_minor": 0
      },
      "text/plain": [
       "  0%|          | 0/67 [00:00<?, ?it/s]"
      ]
     },
     "metadata": {},
     "output_type": "display_data"
    },
    {
     "data": {
      "application/vnd.jupyter.widget-view+json": {
       "model_id": "0cb9edbdd6304c068ff770c5bc5f9b2e",
       "version_major": 2,
       "version_minor": 0
      },
      "text/plain": [
       "  0%|          | 0/67 [00:00<?, ?it/s]"
      ]
     },
     "metadata": {},
     "output_type": "display_data"
    },
    {
     "name": "stdout",
     "output_type": "stream",
     "text": [
      "Epoch: 10\n",
      "Training Accuracy: 0.83, Loss: 0.42\n",
      "Validation Accuracy: 0.83, Loss: 0.42\n"
     ]
    },
    {
     "data": {
      "application/vnd.jupyter.widget-view+json": {
       "model_id": "acaf6cc64fd24991b0f53bfde186857d",
       "version_major": 2,
       "version_minor": 0
      },
      "text/plain": [
       "  0%|          | 0/67 [00:00<?, ?it/s]"
      ]
     },
     "metadata": {},
     "output_type": "display_data"
    },
    {
     "data": {
      "application/vnd.jupyter.widget-view+json": {
       "model_id": "5f1f473bab414adb986fe8c027e60513",
       "version_major": 2,
       "version_minor": 0
      },
      "text/plain": [
       "  0%|          | 0/67 [00:00<?, ?it/s]"
      ]
     },
     "metadata": {},
     "output_type": "display_data"
    },
    {
     "data": {
      "application/vnd.jupyter.widget-view+json": {
       "model_id": "68f52b1843d843478350832c0efa2693",
       "version_major": 2,
       "version_minor": 0
      },
      "text/plain": [
       "  0%|          | 0/67 [00:00<?, ?it/s]"
      ]
     },
     "metadata": {},
     "output_type": "display_data"
    },
    {
     "data": {
      "application/vnd.jupyter.widget-view+json": {
       "model_id": "904e358add294cbe957b865e80d33ada",
       "version_major": 2,
       "version_minor": 0
      },
      "text/plain": [
       "  0%|          | 0/67 [00:00<?, ?it/s]"
      ]
     },
     "metadata": {},
     "output_type": "display_data"
    },
    {
     "data": {
      "application/vnd.jupyter.widget-view+json": {
       "model_id": "7c8a7c00fe3149a3b65796af633895b3",
       "version_major": 2,
       "version_minor": 0
      },
      "text/plain": [
       "  0%|          | 0/67 [00:00<?, ?it/s]"
      ]
     },
     "metadata": {},
     "output_type": "display_data"
    },
    {
     "data": {
      "application/vnd.jupyter.widget-view+json": {
       "model_id": "7f598351524e429d8ee6efcff160367a",
       "version_major": 2,
       "version_minor": 0
      },
      "text/plain": [
       "  0%|          | 0/67 [00:00<?, ?it/s]"
      ]
     },
     "metadata": {},
     "output_type": "display_data"
    },
    {
     "data": {
      "application/vnd.jupyter.widget-view+json": {
       "model_id": "80c007fa6d464380997bc063e3408043",
       "version_major": 2,
       "version_minor": 0
      },
      "text/plain": [
       "  0%|          | 0/67 [00:00<?, ?it/s]"
      ]
     },
     "metadata": {},
     "output_type": "display_data"
    },
    {
     "data": {
      "application/vnd.jupyter.widget-view+json": {
       "model_id": "d1c58db282d048f7bdfafdabf4e1d55c",
       "version_major": 2,
       "version_minor": 0
      },
      "text/plain": [
       "  0%|          | 0/67 [00:00<?, ?it/s]"
      ]
     },
     "metadata": {},
     "output_type": "display_data"
    },
    {
     "data": {
      "application/vnd.jupyter.widget-view+json": {
       "model_id": "0a6b62a9d7144b3e8e228d9ef117c0b1",
       "version_major": 2,
       "version_minor": 0
      },
      "text/plain": [
       "  0%|          | 0/67 [00:00<?, ?it/s]"
      ]
     },
     "metadata": {},
     "output_type": "display_data"
    },
    {
     "name": "stdout",
     "output_type": "stream",
     "text": [
      "Finished Training\n"
     ]
    },
    {
     "data": {
      "image/png": "[encoded data removed]",
      "text/plain": [
       "<Figure size 720x360 with 1 Axes>"
      ]
     },
     "metadata": {
      "needs_background": "light"
     },
     "output_type": "display_data"
    },
    {
     "data": {
      "image/png": "[encoded data removed]",
      "text/plain": [
       "<Figure size 720x360 with 1 Axes>"
      ]
     },
     "metadata": {
      "needs_background": "light"
     },
     "output_type": "display_data"
    }
   ],
   "source": [
    "main(k_folded_data, s_c, 20)"
   ]
  },
  {
   "cell_type": "code",
   "execution_count": 32,
   "metadata": {},
   "outputs": [
    {
     "name": "stdout",
     "output_type": "stream",
     "text": [
      "train data proportion: 0.80, val: 0.20\n",
      "proportion label for 1 train:0.83, val: 0.83\n"
     ]
    }
   ],
   "source": [
    "# dataset proportion\n",
    "total = len(train_y) + len(val_y)\n",
    "print(f'train data proportion: {len(train_y)/total:.2f}, val: {len(val_y)/total:.2f}')\n",
    "print(f'proportion label for 1 train:{list(train_y).count(1)/len(train_y):.2f}, val: {list(val_y).count(1)/len(val_y):.2f}')\n"
   ]
  },
  {
   "cell_type": "code",
   "execution_count": 93,
   "metadata": {},
   "outputs": [
    {
     "data": {
      "application/vnd.jupyter.widget-view+json": {
       "model_id": "7aba449f222d4ab9a87abaeadbc61c10",
       "version_major": 2,
       "version_minor": 0
      },
      "text/plain": [
       "  0%|          | 0/67 [00:00<?, ?it/s]"
      ]
     },
     "metadata": {},
     "output_type": "display_data"
    },
    {
     "name": "stdout",
     "output_type": "stream",
     "text": [
      "Epoch: 0\n",
      "Training Accuracy: 0.82, Loss: 0.52\n",
      "Validation Accuracy: 0.83, Loss: 0.51\n"
     ]
    },
    {
     "data": {
      "application/vnd.jupyter.widget-view+json": {
       "model_id": "1da30ad7f6454642978cf8ac8dca8022",
       "version_major": 2,
       "version_minor": 0
      },
      "text/plain": [
       "  0%|          | 0/67 [00:00<?, ?it/s]"
      ]
     },
     "metadata": {},
     "output_type": "display_data"
    },
    {
     "data": {
      "application/vnd.jupyter.widget-view+json": {
       "model_id": "ec0fd4f3084942c581467137ab65cda6",
       "version_major": 2,
       "version_minor": 0
      },
      "text/plain": [
       "  0%|          | 0/67 [00:00<?, ?it/s]"
      ]
     },
     "metadata": {},
     "output_type": "display_data"
    },
    {
     "data": {
      "application/vnd.jupyter.widget-view+json": {
       "model_id": "7ba6b685bfff4fbe858d5df2c1ec502d",
       "version_major": 2,
       "version_minor": 0
      },
      "text/plain": [
       "  0%|          | 0/67 [00:00<?, ?it/s]"
      ]
     },
     "metadata": {},
     "output_type": "display_data"
    },
    {
     "data": {
      "application/vnd.jupyter.widget-view+json": {
       "model_id": "4271b3635f4f4688b84d418976381932",
       "version_major": 2,
       "version_minor": 0
      },
      "text/plain": [
       "  0%|          | 0/67 [00:00<?, ?it/s]"
      ]
     },
     "metadata": {},
     "output_type": "display_data"
    },
    {
     "data": {
      "application/vnd.jupyter.widget-view+json": {
       "model_id": "60aa7be4780942ac941cf72e6d29c17e",
       "version_major": 2,
       "version_minor": 0
      },
      "text/plain": [
       "  0%|          | 0/67 [00:00<?, ?it/s]"
      ]
     },
     "metadata": {},
     "output_type": "display_data"
    },
    {
     "data": {
      "application/vnd.jupyter.widget-view+json": {
       "model_id": "633e2e9b4ce54d8cb67473720c058a35",
       "version_major": 2,
       "version_minor": 0
      },
      "text/plain": [
       "  0%|          | 0/67 [00:00<?, ?it/s]"
      ]
     },
     "metadata": {},
     "output_type": "display_data"
    },
    {
     "data": {
      "application/vnd.jupyter.widget-view+json": {
       "model_id": "91ca774b061946a6aec85a34c9608132",
       "version_major": 2,
       "version_minor": 0
      },
      "text/plain": [
       "  0%|          | 0/67 [00:00<?, ?it/s]"
      ]
     },
     "metadata": {},
     "output_type": "display_data"
    },
    {
     "data": {
      "application/vnd.jupyter.widget-view+json": {
       "model_id": "2ed4ff4213d247e989b1105d71f78182",
       "version_major": 2,
       "version_minor": 0
      },
      "text/plain": [
       "  0%|          | 0/67 [00:00<?, ?it/s]"
      ]
     },
     "metadata": {},
     "output_type": "display_data"
    },
    {
     "data": {
      "application/vnd.jupyter.widget-view+json": {
       "model_id": "4c869ccc8407430e90985ee7921510a4",
       "version_major": 2,
       "version_minor": 0
      },
      "text/plain": [
       "  0%|          | 0/67 [00:00<?, ?it/s]"
      ]
     },
     "metadata": {},
     "output_type": "display_data"
    },
    {
     "data": {
      "application/vnd.jupyter.widget-view+json": {
       "model_id": "eff3b5f2fa0c4e7d8fa388204b6c8aef",
       "version_major": 2,
       "version_minor": 0
      },
      "text/plain": [
       "  0%|          | 0/67 [00:00<?, ?it/s]"
      ]
     },
     "metadata": {},
     "output_type": "display_data"
    },
    {
     "name": "stdout",
     "output_type": "stream",
     "text": [
      "Epoch: 10\n",
      "Training Accuracy: 0.83, Loss: 0.41\n",
      "Validation Accuracy: 0.83, Loss: 0.45\n"
     ]
    },
    {
     "data": {
      "application/vnd.jupyter.widget-view+json": {
       "model_id": "6611eb92784643b2b0c52075e0cb749b",
       "version_major": 2,
       "version_minor": 0
      },
      "text/plain": [
       "  0%|          | 0/67 [00:00<?, ?it/s]"
      ]
     },
     "metadata": {},
     "output_type": "display_data"
    },
    {
     "data": {
      "application/vnd.jupyter.widget-view+json": {
       "model_id": "c37a2da125094b32be2ecc7ee403bcde",
       "version_major": 2,
       "version_minor": 0
      },
      "text/plain": [
       "  0%|          | 0/67 [00:00<?, ?it/s]"
      ]
     },
     "metadata": {},
     "output_type": "display_data"
    },
    {
     "data": {
      "application/vnd.jupyter.widget-view+json": {
       "model_id": "bae865ee6c1749cfb909d28e76db34e4",
       "version_major": 2,
       "version_minor": 0
      },
      "text/plain": [
       "  0%|          | 0/67 [00:00<?, ?it/s]"
      ]
     },
     "metadata": {},
     "output_type": "display_data"
    },
    {
     "data": {
      "application/vnd.jupyter.widget-view+json": {
       "model_id": "27d81ffc622440349e89fdf1d2aa6a21",
       "version_major": 2,
       "version_minor": 0
      },
      "text/plain": [
       "  0%|          | 0/67 [00:00<?, ?it/s]"
      ]
     },
     "metadata": {},
     "output_type": "display_data"
    },
    {
     "data": {
      "application/vnd.jupyter.widget-view+json": {
       "model_id": "2f8d835eec9c411cb2a2c5e6cd6950fe",
       "version_major": 2,
       "version_minor": 0
      },
      "text/plain": [
       "  0%|          | 0/67 [00:00<?, ?it/s]"
      ]
     },
     "metadata": {},
     "output_type": "display_data"
    },
    {
     "data": {
      "application/vnd.jupyter.widget-view+json": {
       "model_id": "042477de67944fccaf1e1d1ef17e3e91",
       "version_major": 2,
       "version_minor": 0
      },
      "text/plain": [
       "  0%|          | 0/67 [00:00<?, ?it/s]"
      ]
     },
     "metadata": {},
     "output_type": "display_data"
    },
    {
     "data": {
      "application/vnd.jupyter.widget-view+json": {
       "model_id": "060dbccd9f2a4f16998485fb6946b829",
       "version_major": 2,
       "version_minor": 0
      },
      "text/plain": [
       "  0%|          | 0/67 [00:00<?, ?it/s]"
      ]
     },
     "metadata": {},
     "output_type": "display_data"
    },
    {
     "data": {
      "application/vnd.jupyter.widget-view+json": {
       "model_id": "cd25f0ffe1494e469d045cd096acc99a",
       "version_major": 2,
       "version_minor": 0
      },
      "text/plain": [
       "  0%|          | 0/67 [00:00<?, ?it/s]"
      ]
     },
     "metadata": {},
     "output_type": "display_data"
    },
    {
     "data": {
      "application/vnd.jupyter.widget-view+json": {
       "model_id": "eef968fd7cdc4e5b89ff848455cc8f87",
       "version_major": 2,
       "version_minor": 0
      },
      "text/plain": [
       "  0%|          | 0/67 [00:00<?, ?it/s]"
      ]
     },
     "metadata": {},
     "output_type": "display_data"
    },
    {
     "name": "stdout",
     "output_type": "stream",
     "text": [
      "Finished Training\n",
      "0.8302169035153328\n",
      "prediction for 1:1.00, 1337, 0:0.00, 0\n"
     ]
    }
   ],
   "source": [
    "fin_model = BinaryClassifier(5).to(device)\n",
    "\n",
    "run = train(20,train_loader, val_loader, fin_model)\n",
    "\n",
    "entire_dataset = train_dataset+val_dataset\n",
    "loader = DataLoader(entire_dataset, batch_size=1337, shuffle=False)\n",
    "\n",
    "fin_model.eval()\n",
    "with torch.no_grad():\n",
    "    correct_prediction= 0\n",
    "    for data in loader:\n",
    "        inputs, targets = data[0].to(device), data[1].to(torch.int64).to(device)\n",
    "        targets = torch.LongTensor(targets).squeeze()\n",
    "\n",
    "        outputs = fin_model(inputs)\n",
    "        _, prediction = torch.max(outputs,1)\n",
    "        # Count of predictions that matched the target label\n",
    "        correct_prediction +=(prediction == targets).sum().item()\n",
    "        \n",
    "            \n",
    "    acc = correct_prediction/len(entire_dataset)\n",
    "    print(acc)\n",
    "print(f'prediction for 1:{list(prediction).count(1)/len(prediction):.2f}, {list(prediction).count(1)}, 0:{list(prediction).count(0)/len(prediction):.2f}, {list(prediction).count(0)}')\n",
    "# not all for 0 but very poor (few) decision for 1.\n"
   ]
  },
  {
   "cell_type": "code",
   "execution_count": 94,
   "metadata": {},
   "outputs": [
    {
     "name": "stdout",
     "output_type": "stream",
     "text": [
      "tensor([1, 1, 1, 1, 1, 1, 1, 1, 1, 1, 1, 1, 1, 1, 1, 1, 1, 1, 1, 1, 1, 1, 1, 1,\n",
      "        1, 1, 1, 1, 1, 1, 1, 1, 1, 1, 1, 1, 1, 1, 1, 1, 1, 1, 1, 1, 1, 1, 1, 1,\n",
      "        1, 1, 1, 1, 1, 1, 1, 1, 1, 1, 1, 1, 1, 1, 1, 1, 1, 1, 1, 1, 1, 1, 1, 1,\n",
      "        1, 1, 1, 1, 1, 1, 1, 1, 1, 1, 1, 1, 1, 1, 1, 1, 1, 1, 1, 1, 1, 1, 1, 1,\n",
      "        1, 1, 1, 1])\n"
     ]
    }
   ],
   "source": [
    "### To do.. data augmentation, data balancing.\n",
    "print(prediction[:100])"
   ]
  },
  {
   "cell_type": "code",
   "execution_count": 69,
   "metadata": {},
   "outputs": [],
   "source": [
    "data_ = pd.read_excel('./dataset/Pembrolizumab_preprocessing_training_input1.xlsx', usecols= columns_)\n",
    "label_ = data_['Label']"
   ]
  },
  {
   "cell_type": "code",
   "execution_count": 90,
   "metadata": {},
   "outputs": [
    {
     "name": "stdout",
     "output_type": "stream",
     "text": [
      "0.7643979057591623\n",
      "prediction for 1:0.93, 1239, 0:0.07, 98\n"
     ]
    }
   ],
   "source": [
    "# infer w/o training\n",
    "model_test = BinaryClassifier(5).to(device)\n",
    "\n",
    "entire_dataset = train_dataset+val_dataset\n",
    "loader = DataLoader(entire_dataset, batch_size=1337, shuffle=False)\n",
    "\n",
    "model_test.eval()\n",
    "with torch.no_grad():\n",
    "    correct_prediction= 0\n",
    "    for data in loader:\n",
    "        inputs, targets = data[0].to(device), data[1].to(torch.int64).to(device)\n",
    "        targets = torch.LongTensor(targets).squeeze()\n",
    "\n",
    "        outputs = model_test(inputs)\n",
    "        _, prediction = torch.max(outputs,1)\n",
    "        # Count of predictions that matched the target label\n",
    "        correct_prediction +=(prediction == targets).sum().item()\n",
    "        \n",
    "            \n",
    "    acc = correct_prediction/len(entire_dataset)\n",
    "    print(acc)\n",
    "print(f'prediction for 1:{list(prediction).count(1)/len(prediction):.2f}, {list(prediction).count(1)}, 0:{list(prediction).count(0)/len(prediction):.2f}, {list(prediction).count(0)}')\n"
   ]
  },
  {
   "cell_type": "code",
   "execution_count": null,
   "metadata": {},
   "outputs": [],
   "source": [
    "# precision, f1-score\n",
    "# 문제 정의가 제대로 되어있는지. feature 선택할때 \n",
    "# 딥러닝을 하고자 해서 features를 많이 가져왔는데 데이터수는 현저히 적어서 안됌.\n",
    "# female, male 같은 feature\n",
    "# 상관 관계 분석 우선\n",
    "# 연구 성립이 안됌."
   ]
  }
 ],
 "metadata": {
  "interpreter": {
   "hash": "eb5a573b5dab34f83fc6011c109c924932bbf20cfb913eea1afcf36238a3f7d4"
  },
  "kernelspec": {
   "display_name": "Python 3 (ipykernel)",
   "language": "python",
   "name": "python3"
  },
  "language_info": {
   "codemirror_mode": {
    "name": "ipython",
    "version": 3
   },
   "file_extension": ".py",
   "mimetype": "text/x-python",
   "name": "python",
   "nbconvert_exporter": "python",
   "pygments_lexer": "ipython3",
   "version": "3.9.12"
  }
 },
 "nbformat": 4,
 "nbformat_minor": 2
}
